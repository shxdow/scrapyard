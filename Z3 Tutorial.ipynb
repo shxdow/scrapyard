{
  "nbformat": 4,
  "nbformat_minor": 0,
  "metadata": {
    "@webio": {
      "lastCommId": null,
      "lastKernelId": null
    },
    "kernelspec": {
      "display_name": "Python 3",
      "language": "python",
      "name": "python3"
    },
    "language_info": {
      "codemirror_mode": {
        "name": "ipython",
        "version": 3
      },
      "file_extension": ".py",
      "mimetype": "text/x-python",
      "name": "python",
      "nbconvert_exporter": "python",
      "pygments_lexer": "ipython3",
      "version": "3.8.5"
    },
    "colab": {
      "name": "Z3 Tutorial.ipynb",
      "provenance": [],
      "toc_visible": true
    }
  },
  "cells": [
    {
      "cell_type": "markdown",
      "metadata": {
        "id": "wmu5zTmbST67"
      },
      "source": [
        "# Introduction \n",
        "\n",
        "## Hi, I'm Phil!\n",
        "\n",
        "I like math, computers, physics, and long walks on the beach. You can check out what I'm up to at https://www.philipzucker.com/ or give me a twoot at [@SandMouth](https://twitter.com/SandMouth). The video corresponding to this notebook is available here https://youtu.be/56IIrBZy9Rc\n",
        "\n",
        "I work at Draper Labs where we use Z3 as a backend for tools like the Comparative Binary Analysis (CBAT) project https://github.com/draperlaboratory/cbat_tools which formally verifies binary program transformations.\n",
        "\n",
        "## Formal Methods \n",
        "\n",
        "What are formal methods? Well, let's google it:\n",
        "\n",
        "\"In computer science, specifically software engineering and hardware engineering, formal methods are a particular kind of mathematically based techniques for the specification, development and verification of software and hardware systems.[1] The use of formal methods for software and hardware design is motivated by the expectation that, as in other engineering disciplines, performing appropriate mathematical analysis can contribute to the reliability and robustness of a design.[2]\" - https://en.wikipedia.org/wiki/Formal_methods\n",
        "\n",
        "Broadly speaking, Formal Methods are the application of mathematical thinking to computational systems.\n",
        "\n",
        "More narrowly, Formal Methods make the connection between specifications and implementations rigid and reliable.\n",
        "\n",
        "A specification is a precise, clear, and succinct statement of what a program or system should do. It often has a logical or mathematical flavor.\n",
        "\n",
        "An implementation is also precise, but often significantly more verbose. It needs much more detail to actually describe how the system achieves it's goals. It often has a programming flavor. \n",
        "\n",
        "The two should be equivalent in some sense. The process of showing this is verification. This reduces the possibility of bugs in the implementation to bugs in the specification and in this sense a program can be proven correct.  \n",
        "\n",
        "How do we prove that other than by waving our hands and hoping? Well, it's pretty hard. One astonishingly powerful and versatile tool we'll explore today is the Z3 theorem prover.\n",
        "\n",
        "## What is Z3?\n",
        "\n",
        "Well, let's google it.\n",
        "\n",
        "\"Z3 is a state-of-the art theorem prover from Microsoft Research. It can be used to check the satisfiability of logical formulas over one or more theories. Z3 offers a compelling match for software analysis and verification tools, since several common software constructs map directly into supported theories.\"\n",
        "\n",
        "### What the heck does that mean?\n",
        "\n",
        "There are a number of different interesting things you can do with Z3. It has some simplification capabilities that overlap with computer algebra systems like Mathematica, some capabilities that overlap with constraint satisfaction solvers like Minizinc, and a capability to manipulate and express logical statements. The sum total of these capabilities enables z3 to effectively and automatically find solutions to a wide variety of problems or (importantly!) effectively and automatically prove that such solutions _do not exist_.\n",
        "\n",
        "Z3 was designed with the intention that it is going to be used for hardware and software verification tasks.\n",
        "Many verification tools extensively use Z3 or equivalent solvers as the heavy lifting. They are often interfaces that translate the task at hand into a bunch of queries to Z3. But Z3 is also useful on it's own.\n",
        "\n",
        "Z3 was open sourced in the beginning of 2015. The source code is licensed under MIT License and hosted on GitHub.\n",
        "\n",
        "Z3 has official bindings for C, C++, Python, .NET, OCaml, Java and often bindings available in other languages as well. It also has a command line interface that takes in a standardized logical formula input format called [smtlib](http://smtlib.cs.uiowa.edu/). The python bindings are full featured, and python is a familiar language to many, so that is our choice today.\n",
        "\n"
      ]
    },
    {
      "cell_type": "markdown",
      "metadata": {
        "id": "6AjkXfioST7D"
      },
      "source": [
        "# Walking through a Z3 problem\n",
        "\n",
        "To get started, let's do some simple examples\n",
        "\n",
        "First of you need Z3 installed. Z3 is available on pip, the python package installer. \n",
        "Oh, not _that_ Z3. Amusingly, `pip install z3` actually installs a completely unrelated tool.\n",
        "The command you actually need is\n"
      ]
    },
    {
      "cell_type": "code",
      "metadata": {
        "id": "203vZjMqST7F",
        "outputId": "625be420-d324-43c2-839c-50b7a26586c2",
        "colab": {
          "base_uri": "https://localhost:8080/"
        }
      },
      "source": [
        "!pip install z3-solver"
      ],
      "execution_count": 2,
      "outputs": [
        {
          "output_type": "stream",
          "name": "stdout",
          "text": [
            "Collecting z3-solver\n",
            "  Downloading z3_solver-4.8.12.0-py2.py3-none-manylinux1_x86_64.whl (33.0 MB)\n",
            "\u001b[K     |████████████████████████████████| 33.0 MB 18 kB/s \n",
            "\u001b[?25hInstalling collected packages: z3-solver\n",
            "Successfully installed z3-solver-4.8.12.0\n"
          ]
        }
      ]
    },
    {
      "cell_type": "markdown",
      "metadata": {
        "id": "xPZkbo1DST7J"
      },
      "source": [
        "We define a simple problem by first importing the library."
      ]
    },
    {
      "cell_type": "code",
      "metadata": {
        "id": "hy1WslKZST7K"
      },
      "source": [
        "from z3 import *"
      ],
      "execution_count": 3,
      "outputs": []
    },
    {
      "cell_type": "markdown",
      "metadata": {
        "id": "c8VD1XJeST7L"
      },
      "source": [
        "We then declare our variables, state a set of constraints we wish to hold, and then call the convenience function `solve` to get a solution."
      ]
    },
    {
      "cell_type": "code",
      "metadata": {
        "id": "W_9olZigST7M",
        "outputId": "900da3d4-232e-4147-e1e7-fbdc205853e9",
        "colab": {
          "base_uri": "https://localhost:8080/"
        }
      },
      "source": [
        "x = Int('x')\n",
        "y = Int('y')\n",
        "solve(x > 2, y < 10, x + 2*y == 7)"
      ],
      "execution_count": 4,
      "outputs": [
        {
          "output_type": "stream",
          "name": "stdout",
          "text": [
            "[y = 0, x = 7]\n"
          ]
        }
      ]
    },
    {
      "cell_type": "markdown",
      "metadata": {
        "id": "DYi4Z0EcST7R"
      },
      "source": [
        "Or we can ask the same question using the longer form syntax of building a solver object and adding constraint"
      ]
    },
    {
      "cell_type": "code",
      "metadata": {
        "id": "RnV4ZdfdST7T",
        "outputId": "c30a901f-6d29-4e86-de7f-896a5dd9ffb4",
        "colab": {
          "base_uri": "https://localhost:8080/"
        }
      },
      "source": [
        "x = Int('x')\n",
        "y = Int('y')\n",
        "\n",
        "s = Solver()\n",
        "s.add(x > 2)\n",
        "s.add(y < 10)\n",
        "s.add(x + 2 *y == 7)\n",
        "\n",
        "print(s.check())\n",
        "print(s.model())"
      ],
      "execution_count": 5,
      "outputs": [
        {
          "output_type": "stream",
          "name": "stdout",
          "text": [
            "sat\n",
            "[y = 0, x = 7]\n"
          ]
        }
      ]
    },
    {
      "cell_type": "markdown",
      "metadata": {
        "id": "8svMZVqZST7V"
      },
      "source": [
        "We can also use z3 to prove properties and theorems. We'll get more into what this means later."
      ]
    },
    {
      "cell_type": "code",
      "metadata": {
        "id": "MONsxGloST7V",
        "outputId": "1d0bf418-e58e-4a83-8d54-dca4d25d0ebb",
        "colab": {
          "base_uri": "https://localhost:8080/",
          "height": 34
        }
      },
      "source": [
        "p = Bool(\"p\")\n",
        "my_true_thm = Implies(p, p)\n",
        "my_true_thm"
      ],
      "execution_count": 6,
      "outputs": [
        {
          "output_type": "execute_result",
          "data": {
            "text/html": [
              "p &rArr; p"
            ],
            "text/plain": [
              "Implies(p, p)"
            ]
          },
          "metadata": {},
          "execution_count": 6
        }
      ]
    },
    {
      "cell_type": "code",
      "metadata": {
        "id": "cV_4DvftST7X",
        "outputId": "5a893032-8e98-40ae-dbbd-c75f00a0fa2c",
        "colab": {
          "base_uri": "https://localhost:8080/"
        }
      },
      "source": [
        "prove(my_true_thm)"
      ],
      "execution_count": 7,
      "outputs": [
        {
          "output_type": "stream",
          "name": "stdout",
          "text": [
            "proved\n"
          ]
        }
      ]
    },
    {
      "cell_type": "markdown",
      "metadata": {
        "id": "CM55qsbiST7Y"
      },
      "source": [
        "If the property is not true, z3 can supply a counterexample"
      ]
    },
    {
      "cell_type": "code",
      "metadata": {
        "id": "1VWjnl7TST7a",
        "outputId": "bf043fc0-fb69-44ab-ad0f-d87ab82c4178",
        "colab": {
          "base_uri": "https://localhost:8080/",
          "height": 34
        }
      },
      "source": [
        "q = Bool(\"q\")\n",
        "my_false_thm = Implies(q, p)\n",
        "my_false_thm"
      ],
      "execution_count": 8,
      "outputs": [
        {
          "output_type": "execute_result",
          "data": {
            "text/html": [
              "q &rArr; p"
            ],
            "text/plain": [
              "Implies(q, p)"
            ]
          },
          "metadata": {},
          "execution_count": 8
        }
      ]
    },
    {
      "cell_type": "code",
      "metadata": {
        "scrolled": true,
        "id": "hQ6ll3uPST7a",
        "outputId": "009e0df8-24b2-45c3-928f-b07db63b0162",
        "colab": {
          "base_uri": "https://localhost:8080/"
        }
      },
      "source": [
        "prove(my_false_thm)"
      ],
      "execution_count": 9,
      "outputs": [
        {
          "output_type": "stream",
          "name": "stdout",
          "text": [
            "counterexample\n",
            "[p = False, q = True]\n"
          ]
        }
      ]
    },
    {
      "cell_type": "markdown",
      "metadata": {
        "id": "TWfkF-0rST7b"
      },
      "source": [
        "## Z3 Variables\n",
        "\n",
        "You can create z3 variables of different sorts. Here is an incomplete list"
      ]
    },
    {
      "cell_type": "code",
      "metadata": {
        "id": "VzaxOqEhST7c"
      },
      "source": [
        "x = Bool(\"x\")\n",
        "x = Const(\"x\" , BoolSort())\n",
        "p, q, r = Bools(\"p q r\") # convenience function for multiple definitions\n",
        "x = Real(\"x\")\n",
        "y = Int(\"x\") \n",
        "v = BitVec(\"n\", 32) # 32 bit bitvector\n",
        "f = FP(\"f\", Float64()) #Floating point values\n",
        "a = Array(\"a\", IntSort(), BoolSort()) # arrays"
      ],
      "execution_count": 10,
      "outputs": []
    },
    {
      "cell_type": "markdown",
      "metadata": {
        "id": "ptOw5oZjST7d"
      },
      "source": [
        "### Z3 constants\n",
        "\n",
        "Often values are cast in Z3 expressions for you automatically, but sometimes they aren't. You can explicitly cast constants when this is the case."
      ]
    },
    {
      "cell_type": "code",
      "metadata": {
        "id": "DxdyueyIST7d",
        "outputId": "be8e3f64-56bb-4045-a2b5-60473a663eab",
        "colab": {
          "base_uri": "https://localhost:8080/"
        }
      },
      "source": [
        "print(BoolVal(True))\n",
        "print(RealVal(2.5))\n",
        "print(IntVal(7))\n",
        "print(Q(1,3))"
      ],
      "execution_count": 11,
      "outputs": [
        {
          "output_type": "stream",
          "name": "stdout",
          "text": [
            "True\n",
            "5/2\n",
            "7\n",
            "1/3\n"
          ]
        }
      ]
    },
    {
      "cell_type": "markdown",
      "metadata": {
        "id": "TH-Ne-6zST7f"
      },
      "source": [
        "## Constraints / operations\n",
        "\n",
        "Operations and constraints in Z3 are built mostly by overloading the ordinary python operations. There is a good chance you can guess what the right operator is. All operations are also available as capitalized functions."
      ]
    },
    {
      "cell_type": "code",
      "metadata": {
        "id": "_VP9FX_LST7g",
        "outputId": "10d4780b-aaa6-4916-e8ef-dcf76e292f4b",
        "colab": {
          "base_uri": "https://localhost:8080/"
        }
      },
      "source": [
        "# Common numerical operations\n",
        "print(x + x) # addition\n",
        "print(x * x) # multiplication\n",
        "print(x ** 4) # fourth power of x \n",
        "\n",
        "# Common boolean operations\n",
        "print(And(p,q))\n",
        "print(And(p,q,r)) # some can accept more than one argument for convenience.\n",
        "print(Or(p,q))\n",
        "print(Implies(p,q))\n",
        "print(Xor(p,q))\n",
        "print(Not(p))\n",
        "\n",
        "# Constraints \n",
        "print(x == x) #equal\n",
        "print(x != x) # not equal\n",
        "print(x <= RealVal(3)) # inequality\n",
        "print(Or( x < 3,  x == 3, x > 3  )) # Constraints are operations into booleans\n",
        "\n",
        "# And many more! Look in the API docs for others https://z3prover.github.io/api/html/namespacez3py.html"
      ],
      "execution_count": 12,
      "outputs": [
        {
          "output_type": "stream",
          "name": "stdout",
          "text": [
            "x + x\n",
            "x*x\n",
            "x**4\n",
            "And(p, q)\n",
            "And(p, q, r)\n",
            "Or(p, q)\n",
            "Implies(p, q)\n",
            "Xor(p, q)\n",
            "Not(p)\n",
            "x == x\n",
            "x != x\n",
            "3 >= x\n",
            "Or(x < 3, x == 3, x > 3)\n"
          ]
        }
      ]
    },
    {
      "cell_type": "markdown",
      "metadata": {
        "id": "pF_ynrV7ST7h"
      },
      "source": [
        "Now that we've shown some of the basics, you're ready to try something simple on your own\n",
        "\n",
        "### Exercise 1\n",
        "Get a root of the polynomial `x**3 + 3*x**2 + 4*x + 2 == 0` using z3. Can you use z3 to show this is the only solution?"
      ]
    },
    {
      "cell_type": "code",
      "metadata": {
        "id": "N-CYCuLFST7i",
        "outputId": "f6739827-8c15-4563-e65e-bd189718a4a4",
        "colab": {
          "base_uri": "https://localhost:8080/",
          "height": 0
        }
      },
      "source": [
        "# Let's take a look\n",
        "import numpy as np\n",
        "import matplotlib.pyplot as plt\n",
        "xs = np.linspace(-3,3,200)\n",
        "plt.plot(xs,xs**3 + 3*xs**2 + 4*xs + 2)\n",
        "plt.show()"
      ],
      "execution_count": 13,
      "outputs": [
        {
          "output_type": "display_data",
          "data": {
            "image/png": "[encoded data removed]",
            "text/plain": [
              "<Figure size 432x288 with 1 Axes>"
            ]
          },
          "metadata": {
            "needs_background": "light"
          }
        }
      ]
    },
    {
      "cell_type": "code",
      "metadata": {
        "id": "u3hHWczrST7j"
      },
      "source": [
        "# FILL IN\n"
      ],
      "execution_count": 14,
      "outputs": []
    },
    {
      "cell_type": "markdown",
      "metadata": {
        "id": "ANYfSC-EST7k"
      },
      "source": [
        "### * General purpose python exploration tricks\n",
        "\n",
        "I find it extremely useful to explore libraries interatively in python. It is often faster and more honest than looking up the documenation."
      ]
    },
    {
      "cell_type": "code",
      "metadata": {
        "scrolled": true,
        "id": "jE388FPAST7k",
        "outputId": "52f37414-6913-41ed-f121-ead2c0e1258f",
        "colab": {
          "base_uri": "https://localhost:8080/"
        }
      },
      "source": [
        "p = Real(\"p\") # Define the z3 expression of Real constant value 3.\n",
        "type(p) # What is the type of this thing\n",
        "help(p) # What is the documentation. z3 has quite lovely documentation actually.\n",
        "dir(p) # Does this thing have any suspicious looking functions?"
      ],
      "execution_count": 15,
      "outputs": [
        {
          "output_type": "stream",
          "name": "stdout",
          "text": [
            "Help on ArithRef in module z3.z3 object:\n",
            "\n",
            "class ArithRef(ExprRef)\n",
            " |  ArithRef(ast, ctx=None)\n",
            " |  \n",
            " |  Integer and Real expressions.\n",
            " |  \n",
            " |  Method resolution order:\n",
            " |      ArithRef\n",
            " |      ExprRef\n",
            " |      AstRef\n",
            " |      Z3PPObject\n",
            " |      builtins.object\n",
            " |  \n",
            " |  Methods defined here:\n",
            " |  \n",
            " |  __add__(self, other)\n",
            " |      Create the Z3 expression `self + other`.\n",
            " |      \n",
            " |      >>> x = Int('x')\n",
            " |      >>> y = Int('y')\n",
            " |      >>> x + y\n",
            " |      x + y\n",
            " |      >>> (x + y).sort()\n",
            " |      Int\n",
            " |  \n",
            " |  __div__(self, other)\n",
            " |      Create the Z3 expression `other/self`.\n",
            " |      \n",
            " |      >>> x = Int('x')\n",
            " |      >>> y = Int('y')\n",
            " |      >>> x/y\n",
            " |      x/y\n",
            " |      >>> (x/y).sort()\n",
            " |      Int\n",
            " |      >>> (x/y).sexpr()\n",
            " |      '(div x y)'\n",
            " |      >>> x = Real('x')\n",
            " |      >>> y = Real('y')\n",
            " |      >>> x/y\n",
            " |      x/y\n",
            " |      >>> (x/y).sort()\n",
            " |      Real\n",
            " |      >>> (x/y).sexpr()\n",
            " |      '(/ x y)'\n",
            " |  \n",
            " |  __ge__(self, other)\n",
            " |      Create the Z3 expression `other >= self`.\n",
            " |      \n",
            " |      >>> x, y = Ints('x y')\n",
            " |      >>> x >= y\n",
            " |      x >= y\n",
            " |      >>> y = Real('y')\n",
            " |      >>> x >= y\n",
            " |      ToReal(x) >= y\n",
            " |  \n",
            " |  __gt__(self, other)\n",
            " |      Create the Z3 expression `other > self`.\n",
            " |      \n",
            " |      >>> x, y = Ints('x y')\n",
            " |      >>> x > y\n",
            " |      x > y\n",
            " |      >>> y = Real('y')\n",
            " |      >>> x > y\n",
            " |      ToReal(x) > y\n",
            " |  \n",
            " |  __le__(self, other)\n",
            " |      Create the Z3 expression `other <= self`.\n",
            " |      \n",
            " |      >>> x, y = Ints('x y')\n",
            " |      >>> x <= y\n",
            " |      x <= y\n",
            " |      >>> y = Real('y')\n",
            " |      >>> x <= y\n",
            " |      ToReal(x) <= y\n",
            " |  \n",
            " |  __lt__(self, other)\n",
            " |      Create the Z3 expression `other < self`.\n",
            " |      \n",
            " |      >>> x, y = Ints('x y')\n",
            " |      >>> x < y\n",
            " |      x < y\n",
            " |      >>> y = Real('y')\n",
            " |      >>> x < y\n",
            " |      ToReal(x) < y\n",
            " |  \n",
            " |  __mod__(self, other)\n",
            " |      Create the Z3 expression `other%self`.\n",
            " |      \n",
            " |      >>> x = Int('x')\n",
            " |      >>> y = Int('y')\n",
            " |      >>> x % y\n",
            " |      x%y\n",
            " |      >>> simplify(IntVal(10) % IntVal(3))\n",
            " |      1\n",
            " |  \n",
            " |  __mul__(self, other)\n",
            " |      Create the Z3 expression `self * other`.\n",
            " |      \n",
            " |      >>> x = Real('x')\n",
            " |      >>> y = Real('y')\n",
            " |      >>> x * y\n",
            " |      x*y\n",
            " |      >>> (x * y).sort()\n",
            " |      Real\n",
            " |  \n",
            " |  __neg__(self)\n",
            " |      Return an expression representing `-self`.\n",
            " |      \n",
            " |      >>> x = Int('x')\n",
            " |      >>> -x\n",
            " |      -x\n",
            " |      >>> simplify(-(-x))\n",
            " |      x\n",
            " |  \n",
            " |  __pos__(self)\n",
            " |      Return `self`.\n",
            " |      \n",
            " |      >>> x = Int('x')\n",
            " |      >>> +x\n",
            " |      x\n",
            " |  \n",
            " |  __pow__(self, other)\n",
            " |      Create the Z3 expression `self**other` (** is the power operator).\n",
            " |      \n",
            " |      >>> x = Real('x')\n",
            " |      >>> x**3\n",
            " |      x**3\n",
            " |      >>> (x**3).sort()\n",
            " |      Real\n",
            " |      >>> simplify(IntVal(2)**8)\n",
            " |      256\n",
            " |  \n",
            " |  __radd__(self, other)\n",
            " |      Create the Z3 expression `other + self`.\n",
            " |      \n",
            " |      >>> x = Int('x')\n",
            " |      >>> 10 + x\n",
            " |      10 + x\n",
            " |  \n",
            " |  __rdiv__(self, other)\n",
            " |      Create the Z3 expression `other/self`.\n",
            " |      \n",
            " |      >>> x = Int('x')\n",
            " |      >>> 10/x\n",
            " |      10/x\n",
            " |      >>> (10/x).sexpr()\n",
            " |      '(div 10 x)'\n",
            " |      >>> x = Real('x')\n",
            " |      >>> 10/x\n",
            " |      10/x\n",
            " |      >>> (10/x).sexpr()\n",
            " |      '(/ 10.0 x)'\n",
            " |  \n",
            " |  __rmod__(self, other)\n",
            " |      Create the Z3 expression `other%self`.\n",
            " |      \n",
            " |      >>> x = Int('x')\n",
            " |      >>> 10 % x\n",
            " |      10%x\n",
            " |  \n",
            " |  __rmul__(self, other)\n",
            " |      Create the Z3 expression `other * self`.\n",
            " |      \n",
            " |      >>> x = Real('x')\n",
            " |      >>> 10 * x\n",
            " |      10*x\n",
            " |  \n",
            " |  __rpow__(self, other)\n",
            " |      Create the Z3 expression `other**self` (** is the power operator).\n",
            " |      \n",
            " |      >>> x = Real('x')\n",
            " |      >>> 2**x\n",
            " |      2**x\n",
            " |      >>> (2**x).sort()\n",
            " |      Real\n",
            " |      >>> simplify(2**IntVal(8))\n",
            " |      256\n",
            " |  \n",
            " |  __rsub__(self, other)\n",
            " |      Create the Z3 expression `other - self`.\n",
            " |      \n",
            " |      >>> x = Int('x')\n",
            " |      >>> 10 - x\n",
            " |      10 - x\n",
            " |  \n",
            " |  __rtruediv__(self, other)\n",
            " |      Create the Z3 expression `other/self`.\n",
            " |  \n",
            " |  __sub__(self, other)\n",
            " |      Create the Z3 expression `self - other`.\n",
            " |      \n",
            " |      >>> x = Int('x')\n",
            " |      >>> y = Int('y')\n",
            " |      >>> x - y\n",
            " |      x - y\n",
            " |      >>> (x - y).sort()\n",
            " |      Int\n",
            " |  \n",
            " |  __truediv__(self, other)\n",
            " |      Create the Z3 expression `other/self`.\n",
            " |  \n",
            " |  is_int(self)\n",
            " |      Return `True` if `self` is an integer expression.\n",
            " |      \n",
            " |      >>> x = Int('x')\n",
            " |      >>> x.is_int()\n",
            " |      True\n",
            " |      >>> (x + 1).is_int()\n",
            " |      True\n",
            " |      >>> y = Real('y')\n",
            " |      >>> (x + y).is_int()\n",
            " |      False\n",
            " |  \n",
            " |  is_real(self)\n",
            " |      Return `True` if `self` is an real expression.\n",
            " |      \n",
            " |      >>> x = Real('x')\n",
            " |      >>> x.is_real()\n",
            " |      True\n",
            " |      >>> (x + 1).is_real()\n",
            " |      True\n",
            " |  \n",
            " |  sort(self)\n",
            " |      Return the sort (type) of the arithmetical expression `self`.\n",
            " |      \n",
            " |      >>> Int('x').sort()\n",
            " |      Int\n",
            " |      >>> (Real('x') + 1).sort()\n",
            " |      Real\n",
            " |  \n",
            " |  ----------------------------------------------------------------------\n",
            " |  Methods inherited from ExprRef:\n",
            " |  \n",
            " |  __eq__(self, other)\n",
            " |      Return a Z3 expression that represents the constraint `self == other`.\n",
            " |      \n",
            " |      If `other` is `None`, then this method simply returns `False`.\n",
            " |      \n",
            " |      >>> a = Int('a')\n",
            " |      >>> b = Int('b')\n",
            " |      >>> a == b\n",
            " |      a == b\n",
            " |      >>> a is None\n",
            " |      False\n",
            " |  \n",
            " |  __hash__(self)\n",
            " |      Hash code.\n",
            " |  \n",
            " |  __ne__(self, other)\n",
            " |      Return a Z3 expression that represents the constraint `self != other`.\n",
            " |      \n",
            " |      If `other` is `None`, then this method simply returns `True`.\n",
            " |      \n",
            " |      >>> a = Int('a')\n",
            " |      >>> b = Int('b')\n",
            " |      >>> a != b\n",
            " |      a != b\n",
            " |      >>> a is not None\n",
            " |      True\n",
            " |  \n",
            " |  arg(self, idx)\n",
            " |      Return argument `idx` of the application `self`.\n",
            " |      \n",
            " |      This method assumes that `self` is a function application with at least `idx+1` arguments.\n",
            " |      \n",
            " |      >>> a = Int('a')\n",
            " |      >>> b = Int('b')\n",
            " |      >>> f = Function('f', IntSort(), IntSort(), IntSort(), IntSort())\n",
            " |      >>> t = f(a, b, 0)\n",
            " |      >>> t.arg(0)\n",
            " |      a\n",
            " |      >>> t.arg(1)\n",
            " |      b\n",
            " |      >>> t.arg(2)\n",
            " |      0\n",
            " |  \n",
            " |  as_ast(self)\n",
            " |      Return a pointer to the corresponding C Z3_ast object.\n",
            " |  \n",
            " |  children(self)\n",
            " |      Return a list containing the children of the given expression\n",
            " |      \n",
            " |      >>> a = Int('a')\n",
            " |      >>> b = Int('b')\n",
            " |      >>> f = Function('f', IntSort(), IntSort(), IntSort(), IntSort())\n",
            " |      >>> t = f(a, b, 0)\n",
            " |      >>> t.children()\n",
            " |      [a, b, 0]\n",
            " |  \n",
            " |  decl(self)\n",
            " |      Return the Z3 function declaration associated with a Z3 application.\n",
            " |      \n",
            " |      >>> f = Function('f', IntSort(), IntSort())\n",
            " |      >>> a = Int('a')\n",
            " |      >>> t = f(a)\n",
            " |      >>> eq(t.decl(), f)\n",
            " |      True\n",
            " |      >>> (a + 1).decl()\n",
            " |      +\n",
            " |  \n",
            " |  get_id(self)\n",
            " |      Return unique identifier for object. It can be used for hash-tables and maps.\n",
            " |  \n",
            " |  num_args(self)\n",
            " |      Return the number of arguments of a Z3 application.\n",
            " |      \n",
            " |      >>> a = Int('a')\n",
            " |      >>> b = Int('b')\n",
            " |      >>> (a + b).num_args()\n",
            " |      2\n",
            " |      >>> f = Function('f', IntSort(), IntSort(), IntSort(), IntSort())\n",
            " |      >>> t = f(a, b, 0)\n",
            " |      >>> t.num_args()\n",
            " |      3\n",
            " |  \n",
            " |  params(self)\n",
            " |  \n",
            " |  sort_kind(self)\n",
            " |      Shorthand for `self.sort().kind()`.\n",
            " |      \n",
            " |      >>> a = Array('a', IntSort(), IntSort())\n",
            " |      >>> a.sort_kind() == Z3_ARRAY_SORT\n",
            " |      True\n",
            " |      >>> a.sort_kind() == Z3_INT_SORT\n",
            " |      False\n",
            " |  \n",
            " |  ----------------------------------------------------------------------\n",
            " |  Methods inherited from AstRef:\n",
            " |  \n",
            " |  __bool__(self)\n",
            " |  \n",
            " |  __copy__(self)\n",
            " |  \n",
            " |  __deepcopy__(self, memo={})\n",
            " |  \n",
            " |  __del__(self)\n",
            " |  \n",
            " |  __init__(self, ast, ctx=None)\n",
            " |      Initialize self.  See help(type(self)) for accurate signature.\n",
            " |  \n",
            " |  __nonzero__(self)\n",
            " |  \n",
            " |  __repr__(self)\n",
            " |      Return repr(self).\n",
            " |  \n",
            " |  __str__(self)\n",
            " |      Return str(self).\n",
            " |  \n",
            " |  ctx_ref(self)\n",
            " |      Return a reference to the C context where this AST node is stored.\n",
            " |  \n",
            " |  eq(self, other)\n",
            " |      Return `True` if `self` and `other` are structurally identical.\n",
            " |      \n",
            " |      >>> x = Int('x')\n",
            " |      >>> n1 = x + 1\n",
            " |      >>> n2 = 1 + x\n",
            " |      >>> n1.eq(n2)\n",
            " |      False\n",
            " |      >>> n1 = simplify(n1)\n",
            " |      >>> n2 = simplify(n2)\n",
            " |      >>> n1.eq(n2)\n",
            " |      True\n",
            " |  \n",
            " |  hash(self)\n",
            " |      Return a hashcode for the `self`.\n",
            " |      \n",
            " |      >>> n1 = simplify(Int('x') + 1)\n",
            " |      >>> n2 = simplify(2 + Int('x') - 1)\n",
            " |      >>> n1.hash() == n2.hash()\n",
            " |      True\n",
            " |  \n",
            " |  sexpr(self)\n",
            " |      Return a string representing the AST node in s-expression notation.\n",
            " |      \n",
            " |      >>> x = Int('x')\n",
            " |      >>> ((x + 1)*x).sexpr()\n",
            " |      '(* (+ x 1) x)'\n",
            " |  \n",
            " |  translate(self, target)\n",
            " |      Translate `self` to the context `target`. That is, return a copy of `self` in the context `target`.\n",
            " |      \n",
            " |      >>> c1 = Context()\n",
            " |      >>> c2 = Context()\n",
            " |      >>> x  = Int('x', c1)\n",
            " |      >>> y  = Int('y', c2)\n",
            " |      >>> # Nodes in different contexts can't be mixed.\n",
            " |      >>> # However, we can translate nodes from one context to another.\n",
            " |      >>> x.translate(c2) + y\n",
            " |      x + y\n",
            " |  \n",
            " |  ----------------------------------------------------------------------\n",
            " |  Methods inherited from Z3PPObject:\n",
            " |  \n",
            " |  use_pp(self)\n",
            " |  \n",
            " |  ----------------------------------------------------------------------\n",
            " |  Data descriptors inherited from Z3PPObject:\n",
            " |  \n",
            " |  __dict__\n",
            " |      dictionary for instance variables (if defined)\n",
            " |  \n",
            " |  __weakref__\n",
            " |      list of weak references to the object (if defined)\n",
            "\n"
          ]
        },
        {
          "output_type": "execute_result",
          "data": {
            "text/plain": [
              "['__add__',\n",
              " '__bool__',\n",
              " '__class__',\n",
              " '__copy__',\n",
              " '__deepcopy__',\n",
              " '__del__',\n",
              " '__delattr__',\n",
              " '__dict__',\n",
              " '__dir__',\n",
              " '__div__',\n",
              " '__doc__',\n",
              " '__eq__',\n",
              " '__format__',\n",
              " '__ge__',\n",
              " '__getattribute__',\n",
              " '__gt__',\n",
              " '__hash__',\n",
              " '__init__',\n",
              " '__init_subclass__',\n",
              " '__le__',\n",
              " '__lt__',\n",
              " '__mod__',\n",
              " '__module__',\n",
              " '__mul__',\n",
              " '__ne__',\n",
              " '__neg__',\n",
              " '__new__',\n",
              " '__nonzero__',\n",
              " '__pos__',\n",
              " '__pow__',\n",
              " '__radd__',\n",
              " '__rdiv__',\n",
              " '__reduce__',\n",
              " '__reduce_ex__',\n",
              " '__repr__',\n",
              " '__rmod__',\n",
              " '__rmul__',\n",
              " '__rpow__',\n",
              " '__rsub__',\n",
              " '__rtruediv__',\n",
              " '__setattr__',\n",
              " '__sizeof__',\n",
              " '__str__',\n",
              " '__sub__',\n",
              " '__subclasshook__',\n",
              " '__truediv__',\n",
              " '__weakref__',\n",
              " '_repr_html_',\n",
              " 'arg',\n",
              " 'as_ast',\n",
              " 'ast',\n",
              " 'children',\n",
              " 'ctx',\n",
              " 'ctx_ref',\n",
              " 'decl',\n",
              " 'eq',\n",
              " 'get_id',\n",
              " 'hash',\n",
              " 'is_int',\n",
              " 'is_real',\n",
              " 'num_args',\n",
              " 'params',\n",
              " 'sexpr',\n",
              " 'sort',\n",
              " 'sort_kind',\n",
              " 'translate',\n",
              " 'use_pp']"
            ]
          },
          "metadata": {},
          "execution_count": 15
        }
      ]
    },
    {
      "cell_type": "markdown",
      "metadata": {
        "id": "vnqor4eMST7l"
      },
      "source": [
        "### * Getting Values out of Z3 models\n",
        "\n",
        "Z3 has a number of helper functions like `solve` above, but a more powerful interface is through the Solver class"
      ]
    },
    {
      "cell_type": "code",
      "metadata": {
        "id": "DvK4Wa9xST7m",
        "outputId": "7d5ad93e-1576-4a12-b950-808112a74ec9",
        "colab": {
          "base_uri": "https://localhost:8080/"
        }
      },
      "source": [
        "x = Int(\"x\")\n",
        "y = Real(\"y\")\n",
        "z = Real(\"z\")\n",
        "p = Bool(\"p\")\n",
        "a = BitVec(\"a\",32)\n",
        "\n",
        "s = Solver()\n",
        "s.add(x == 2)\n",
        "s.add(y == 1/3)\n",
        "s.add(p == True)\n",
        "s.add(a == 0xDEADBEEF)\n",
        "print(s.check())\n",
        "m = s.model()\n",
        "\n",
        "print(m[x].as_long())\n",
        "print(m[y].numerator_as_long() / m[y].denominator_as_long())\n",
        "print(m[a].as_long())\n",
        "print(bool(m[p]))\n",
        "\n",
        "m.eval(2*x + 1) # you can also evaluate z3 expressions in the context of the model\n",
        "      \n",
        "s = Solver()     \n",
        "s.add(z ** 2 == 2)\n",
        "print(s.check())\n",
        "m = s.model()\n",
        "print(m[z].approx())\n",
        "print(m[z].approx().numerator_as_long() / m[z].approx().denominator_as_long())"
      ],
      "execution_count": 16,
      "outputs": [
        {
          "output_type": "stream",
          "name": "stdout",
          "text": [
            "sat\n",
            "2\n",
            "0.3333333333333333\n",
            "3735928559\n",
            "True\n",
            "sat\n",
            "-3109888511975/2199023255552\n",
            "-1.414213562372879\n"
          ]
        }
      ]
    },
    {
      "cell_type": "markdown",
      "metadata": {
        "id": "5-F8Snw7ST7o"
      },
      "source": [
        "### * Conversion Functions\n",
        "\n",
        "It is useful to sometimes convert between sorts. There are conversion functions for that for many different sorts. Here is a simple example."
      ]
    },
    {
      "cell_type": "code",
      "metadata": {
        "id": "9FesRNDqST7o",
        "outputId": "67ba1db0-1f59-4c83-b01e-0750edd21ee4",
        "colab": {
          "base_uri": "https://localhost:8080/",
          "height": 0
        }
      },
      "source": [
        "x = Int(\"x\")\n",
        "y = Real(\"y\")\n",
        "ToReal(x)\n",
        "ToInt(y)"
      ],
      "execution_count": 17,
      "outputs": [
        {
          "output_type": "execute_result",
          "data": {
            "text/html": [
              "ToInt(y)"
            ],
            "text/plain": [
              "ToInt(y)"
            ]
          },
          "metadata": {},
          "execution_count": 17
        }
      ]
    },
    {
      "cell_type": "markdown",
      "metadata": {
        "id": "dSXnkr67ST7r"
      },
      "source": [
        "### * Simplifying expressions with z3"
      ]
    },
    {
      "cell_type": "markdown",
      "metadata": {
        "id": "PP4y9qbIST7s"
      },
      "source": [
        "Z3 can be used to simplify expressions similar to how one might use sympy or mathematica."
      ]
    },
    {
      "cell_type": "code",
      "metadata": {
        "id": "Knocod1JST7s",
        "outputId": "3f69f89b-c2dc-4516-cbe9-12abf645768f",
        "colab": {
          "base_uri": "https://localhost:8080/"
        }
      },
      "source": [
        "x = Int('x')\n",
        "y = Int('y')\n",
        "print(simplify(x + y + 2*x + 3))\n",
        "print(simplify(x < y + x + 2))\n",
        "print(simplify(And(x + 1 >= 3, x**2 + x**2 + y**2 + 2 >= 5))) "
      ],
      "execution_count": 18,
      "outputs": [
        {
          "output_type": "stream",
          "name": "stdout",
          "text": [
            "3 + 3*x + y\n",
            "Not(y <= -2)\n",
            "And(x >= 2, 2*x**2 + y**2 >= 3)\n"
          ]
        }
      ]
    },
    {
      "cell_type": "markdown",
      "metadata": {
        "id": "M5E4M30-ST7t"
      },
      "source": [
        "### * Fresh Variable Names\n",
        "It can be useful to generate variables with fresh names, especially when building problems programmatically. Z3 has built in functionality for this."
      ]
    },
    {
      "cell_type": "code",
      "metadata": {
        "scrolled": true,
        "id": "3QRu_slgST7v",
        "outputId": "f44896a0-697e-48d3-ef62-92a491016d47",
        "colab": {
          "base_uri": "https://localhost:8080/"
        }
      },
      "source": [
        "print(FreshReal(prefix=\"x\"))\n",
        "print(FreshBool(prefix=\"b\"))\n",
        "print(FreshConst(IntSort() , prefix=\"f\"))"
      ],
      "execution_count": 19,
      "outputs": [
        {
          "output_type": "stream",
          "name": "stdout",
          "text": [
            "x!0\n",
            "b!1\n",
            "f!2\n"
          ]
        }
      ]
    },
    {
      "cell_type": "markdown",
      "metadata": {
        "id": "-uNbMB43ST7w"
      },
      "source": [
        "### Useful Documentation\n",
        "\n",
        "Now that we have a simple example, let's look at where we can go to find out more\n",
        "\n",
        "- The API docs: https://z3prover.github.io/api/html/namespacez3py.html\n",
        "- https://rise4fun.com/z3/tutorial has an interactive tutorial in z3. It uses the smt-lib2 input language, not python\n",
        "- https://ericpony.github.io/z3py-tutorial/guide-examples.htm A tutorial for the python bindings upon which this tutorial is heavily based\n",
        "\n"
      ]
    },
    {
      "cell_type": "markdown",
      "metadata": {
        "id": "eZVp9BjDST7w"
      },
      "source": [
        "# Using Z3 To Find Stuff\n",
        "\n",
        "Z3 is from one perspective just executing a flexible and fast search similar to constraint satisfaction solvers, SAT solvers, and computer algebra systems. You can use Z3 to solve puzzles like Sudoku and Nonograms. \n",
        "It isn't just fun and games, there are many practical usages of such things (it's a whole industry).\n",
        " - Graph Coloring (Useful for register allocation for example)\n",
        " - Scheduling Problems\n",
        " - Routing problems\n",
        " - etc.\n"
      ]
    },
    {
      "cell_type": "markdown",
      "metadata": {
        "id": "LKlUuGzeST7x"
      },
      "source": [
        "## 8 Queens\n",
        "\n",
        "The eight queens puzzle is the problem of placing eight chess queens on an 8x8 chessboard so that no two queens attack each other. Thus, a solution requires that no two queens share the same row, column, or diagonal."
      ]
    },
    {
      "cell_type": "code",
      "metadata": {
        "id": "opZLbqGrST7z",
        "outputId": "419b3f8f-8765-4fc5-a9d5-322dce5045bf",
        "colab": {
          "base_uri": "https://localhost:8080/"
        }
      },
      "source": [
        "# We know each queen must be in a different row.\n",
        "# So, we represent each queen by a single integer: the column position\n",
        "Q = [ Int(f\"Q_{row + 1}\") for row in range(8) ]\n",
        "\n",
        "# Each queen is in a column {1, ... 8 }\n",
        "val_c = [ And(1 <= Q[row], Q[row] <= 8) for row in range(8) ]\n",
        "\n",
        "# At most one queen per column\n",
        "col_c = [ Distinct(Q) ]\n",
        "\n",
        "# Diagonal constraint\n",
        "diag_c = [ If(i == j,\n",
        "              True,\n",
        "              And(Q[i] - Q[j] != i - j, Q[i] - Q[j] != j - i))\n",
        "           for i in range(8) for j in range(i) ]\n",
        "\n",
        "solve(val_c + col_c + diag_c)"
      ],
      "execution_count": 20,
      "outputs": [
        {
          "output_type": "stream",
          "name": "stdout",
          "text": [
            "[Q_3 = 7,\n",
            " Q_1 = 6,\n",
            " Q_7 = 8,\n",
            " Q_8 = 4,\n",
            " Q_5 = 3,\n",
            " Q_4 = 1,\n",
            " Q_2 = 2,\n",
            " Q_6 = 5]\n"
          ]
        }
      ]
    },
    {
      "cell_type": "code",
      "metadata": {
        "id": "72pri_ANST7-",
        "outputId": "a6eee200-3c04-43c0-b2a6-82bc36984dee",
        "colab": {
          "base_uri": "https://localhost:8080/",
          "height": 293
        }
      },
      "source": [
        "import numpy as np\n",
        "import matplotlib.pyplot as plt\n",
        "\n",
        "s = Solver()\n",
        "s.add(val_c + col_c + diag_c)\n",
        "s.check()\n",
        "m = s.model()\n",
        "board = np.zeros((8,8))\n",
        "\n",
        "for i in range(8):\n",
        "    board[i, m[Q[i]].as_long() - 1] = 1\n",
        "\n",
        "plt.matshow(board)"
      ],
      "execution_count": 21,
      "outputs": [
        {
          "output_type": "execute_result",
          "data": {
            "text/plain": [
              "<matplotlib.image.AxesImage at 0x7f7a84f52750>"
            ]
          },
          "metadata": {},
          "execution_count": 21
        },
        {
          "output_type": "display_data",
          "data": {
            "image/png": "[encoded data removed]",
            "text/plain": [
              "<Figure size 288x288 with 1 Axes>"
            ]
          },
          "metadata": {
            "needs_background": "light"
          }
        }
      ]
    },
    {
      "cell_type": "markdown",
      "metadata": {
        "id": "0cl7HhHVST8E"
      },
      "source": [
        "## Exercise: Send More Money\n",
        "\n",
        "There is an assignment of unique digits to letters such that the equation `send + more = money` holds. Find an assignment of the digits to make this true.\n",
        "\n",
        "Here we show the longer form interface to the Solver as compared to the `solve` convenience method used above."
      ]
    },
    {
      "cell_type": "code",
      "metadata": {
        "id": "AR7c6oZeST8F",
        "outputId": "5174305b-3d66-4ee8-e740-b645feba7677",
        "colab": {
          "base_uri": "https://localhost:8080/",
          "height": 34
        }
      },
      "source": [
        "digits = Ints('s e n d m o r y')\n",
        "s,e,n,d,m,o,r,y = digits\n",
        "send = Sum([10**(3-i) * d for i,d in enumerate([s,e,n,d])]) # convert digits of number to number\n",
        "more = Sum([10**(3-i) * d for i,d in enumerate([m,o,r,e])])\n",
        "money = Sum([10**(4-i) * d for i,d in enumerate([m,o,n,e,y])])\n",
        "\n",
        "solver = Solver()\n",
        "solver.add([s > 0, m > 0]) # first digits are nonzero\n",
        "\n",
        "# Constrain all digits constrained to be 0 through 9\n",
        "# FILL IN\n",
        "\n",
        "# Constrain all digits to be unique (Hint: Look at the 8-Queens constraints. Anything useful?)\n",
        "# FILL IN\n",
        "\n",
        "# Constrain send + more == money\n",
        "# FILL IN\n",
        "\n",
        "solver.check()\n",
        "solver.model()"
      ],
      "execution_count": 22,
      "outputs": [
        {
          "output_type": "execute_result",
          "data": {
            "text/html": [
              "[m = 1, s = 1]"
            ],
            "text/plain": [
              "[m = 1, s = 1]"
            ]
          },
          "metadata": {},
          "execution_count": 22
        }
      ]
    },
    {
      "cell_type": "markdown",
      "metadata": {
        "id": "0ZvFOG0hST8G"
      },
      "source": [
        "## * Robot Arm Inverse Kinematics\n",
        "\n",
        "The inverse kinematics problem is to find the angles of the joints of a robot arm in order to place the hand in some position. \n",
        "You can describe the joint positions using polynomial constraints. Pairs of joints are constrained to be a distance apart equal the the length of that piece of the robot arm. You can also enter inequality constraints (like staying out of the floor) with varying amounts of success."
      ]
    },
    {
      "cell_type": "code",
      "metadata": {
        "id": "CcZAe5M7ST8G",
        "outputId": "61be7d3d-c4b2-49b9-ed85-6944510cb6b7",
        "colab": {
          "base_uri": "https://localhost:8080/",
          "height": 34
        }
      },
      "source": [
        "pos = np.array([  [ Real(f\"x_{(i,j)}\")  for j in range(2)] for i in range(3)])\n",
        "s = Solver()\n",
        "s.add( np.sum(pos[0]**2) == 1 )\n",
        "s.add( np.sum(pos[1]**2) == 1 )\n",
        "s.add( np.sum((pos[2] - pos[0])**2) == 1 )\n",
        "s.add( np.sum((pos[2] - pos[1])**2) == 1 )\n",
        "s.add( pos[2][0] == 0 )\n",
        "s.add( pos[2][1] == 1 )\n",
        "s.check()\n",
        "s.model()"
      ],
      "execution_count": 23,
      "outputs": [
        {
          "output_type": "execute_result",
          "data": {
            "text/html": [
              "[x_(0, 0) = -0.8660254037?,\n",
              " x_(1, 0) = -0.8660254037?,\n",
              " x_(0, 1) = 1/2,\n",
              " x_(1, 1) = 1/2,\n",
              " x_(2, 1) = 1,\n",
              " x_(2, 0) = 0]"
            ],
            "text/plain": [
              "[x_(0, 0) = -0.8660254037?,\n",
              " x_(1, 0) = -0.8660254037?,\n",
              " x_(0, 1) = 1/2,\n",
              " x_(1, 1) = 1/2,\n",
              " x_(2, 1) = 1,\n",
              " x_(2, 0) = 0]"
            ]
          },
          "metadata": {},
          "execution_count": 23
        }
      ]
    },
    {
      "cell_type": "markdown",
      "metadata": {
        "id": "sMM8l1NXST8I"
      },
      "source": [
        "\n",
        "## * Discrete Tomography\n",
        "\n",
        "Tomographic reconstruction is an interesting class of problems. One example is x-ray tomography. The data you get out is the integrated extinction of an x-ray along a line going thorugh a patient. From the data of many such lines, one can attempt to back out an image of the x-ray absorption through out the patient. \n",
        "A simplified schematic version of this can be done in a discrete setting. We have a binary image and can collect the sums of horizontal, verticals, and diagonals. Then we ask z3 to find an assignment that satisfies these sum constraints. There may or may not be a unique solution.\n",
        "The problem is related to Picross/Nonograms puzzles.\n"
      ]
    },
    {
      "cell_type": "code",
      "metadata": {
        "id": "dKeFBdSdST8I",
        "outputId": "9ac4b6aa-123d-424f-9268-c39a5c04b54e",
        "colab": {
          "base_uri": "https://localhost:8080/",
          "height": 0
        }
      },
      "source": [
        "import numpy as np\n",
        "import matplotlib.pyplot as plt\n",
        "bin_img = np.array([\n",
        "[0,0,0,0,0,0,0],\n",
        "[0,0,1,0,1,0,0],\n",
        "[0,0,1,0,1,0,0],\n",
        "[0,0,0,0,0,0,0],\n",
        "[0,1,0,0,0,1,0],\n",
        "[0,0,1,1,1,0,0],\n",
        "[0,0,0,0,0,0,0]])\n",
        "bin_img = np.hstack([bin_img,bin_img.T])\n",
        "bin_img = np.vstack([bin_img,bin_img])\n",
        "plt.imshow(bin_img)\n",
        "plt.title(\"Original Image\")\n"
      ],
      "execution_count": 24,
      "outputs": [
        {
          "output_type": "execute_result",
          "data": {
            "text/plain": [
              "Text(0.5, 1.0, 'Original Image')"
            ]
          },
          "metadata": {},
          "execution_count": 24
        },
        {
          "output_type": "display_data",
          "data": {
            "image/png": "[encoded data removed]",
            "text/plain": [
              "<Figure size 432x288 with 1 Axes>"
            ]
          },
          "metadata": {
            "needs_background": "light"
          }
        }
      ]
    },
    {
      "cell_type": "code",
      "metadata": {
        "id": "xFH_7KyfST8K",
        "outputId": "b7ed3632-90f8-4696-a22a-c01d77cbda84",
        "colab": {
          "base_uri": "https://localhost:8080/",
          "height": 0
        }
      },
      "source": [
        "rows, cols = bin_img.shape\n",
        "bvars = [[ If(Bool(f\"x_({row},{col})\"), IntVal(1),IntVal(0)) for col in range(cols)] for row in range(rows)]\n",
        "\n",
        "s = SolverFor(\"QF_FD\")\n",
        "# for each row, column sum constraint\n",
        "s.add([Sum(bvars[row]) == IntVal(int(np.sum(bin_img[row,:]))) for row in range(rows)]) \n",
        "# for each column, row sum constraint\n",
        "s.add([Sum([bvars[row][col] for row in range(rows)]  ) == IntVal(int(np.sum(bin_img[:,col]))) for col in range(cols)])\n",
        "\n",
        "# diagonal sum constraints\n",
        "for diag in range(rows+cols): # Challenge mode: Can you do this more elegantly and clearly? \n",
        "    s.add(Sum([ bvars[row][col] for row in range(rows) for col in range(cols) if col + row == diag]) == IntVal(int(sum([ bin_img[row,col] for row in range(rows) for col in range(cols) if col + row == diag]))))\n",
        "    s.add(Sum([ bvars[row][col] for row in range(rows) for col in range(cols) if col - row == diag - rows +1]) == IntVal(int(sum([ bin_img[row,col] for row in range(rows) for col in range(cols) if col - row == diag - rows + 1]))))\n",
        "for i in range(50):  # loop through all solutions\n",
        "    res = s.check()\n",
        "    if res == sat:\n",
        "        m = s.model()\n",
        "        sol = [[m.eval(s).as_long() for s in row] for row in bvars]\n",
        "        plt.figure()\n",
        "        plt.imshow(sol)\n",
        "        plt.title(\"Reconstructed Image\")\n",
        "        s.add(Not(And([  And([v == m.eval(v) for v in row]) for row in bvars])))\n",
        "    else:\n",
        "        print(\"No more models\")"
      ],
      "execution_count": 25,
      "outputs": [
        {
          "output_type": "stream",
          "name": "stdout",
          "text": [
            "No more models\n",
            "No more models\n",
            "No more models\n",
            "No more models\n",
            "No more models\n",
            "No more models\n",
            "No more models\n",
            "No more models\n",
            "No more models\n",
            "No more models\n",
            "No more models\n",
            "No more models\n",
            "No more models\n",
            "No more models\n",
            "No more models\n",
            "No more models\n",
            "No more models\n",
            "No more models\n",
            "No more models\n",
            "No more models\n",
            "No more models\n",
            "No more models\n",
            "No more models\n",
            "No more models\n",
            "No more models\n",
            "No more models\n",
            "No more models\n",
            "No more models\n",
            "No more models\n",
            "No more models\n",
            "No more models\n",
            "No more models\n",
            "No more models\n",
            "No more models\n",
            "No more models\n",
            "No more models\n",
            "No more models\n",
            "No more models\n",
            "No more models\n",
            "No more models\n",
            "No more models\n",
            "No more models\n",
            "No more models\n",
            "No more models\n",
            "No more models\n",
            "No more models\n",
            "No more models\n",
            "No more models\n",
            "No more models\n"
          ]
        },
        {
          "output_type": "display_data",
          "data": {
            "image/png": "[encoded data removed]",
            "text/plain": [
              "<Figure size 432x288 with 1 Axes>"
            ]
          },
          "metadata": {
            "needs_background": "light"
          }
        }
      ]
    },
    {
      "cell_type": "markdown",
      "metadata": {
        "id": "UqQQkWoIST8L"
      },
      "source": [
        "# Interlude: A Rough Sketch of How Z3 works\n",
        "\n",
        "It is very useful to have at least a simplistic mental model of how a tool works, so that you can predict the places where it might run into difficulty, or formulate your problem in a way amenable to the solver.\n",
        "\n",
        "Z3 (and other related SMT solvers) are built around the core concept of a SAT solver, so let's discuss that first.\n",
        "\n",
        "## SAT Solving\n",
        "\n",
        "A propositional logical formula is the combination of variables using the boolean connectives And, Or, Implies, and Not. Here is a propositional formula over variables p, q, r, and w in mathematical notation.\n",
        "\n",
        "$$ (p \\lor q) \\land (q \\lor \\neg w) \\land (w \\lor r \\lor p) \\land (r \\lor \\neg w) $$\n",
        "\n",
        "If we assign values to the variables, we can evaluate the formula to determine if the whole thing evaulates to true or false. In this sense, formulas are like boolean circuits. Here for example, is a python function that evaluates a boolean formula.\n",
        "\n",
        "```python\n",
        "def foo(p,q,r,w):\n",
        "    return (p or q) and (q or not w) and (w or r or p) and (r or not w)\n",
        "```\n",
        "\n",
        "One useful question we can ask about a propositional formula is if it is satisfiable. Satisfiable means there exists an assignment of the boolean variables to true and false values that makes the entire formula evaluate to true. For a circuit, this is deductively running it backwards to find an input, something that they are physically designed not to do.\n",
        "\n",
        "Specialized solvers for this question are called SAT solvers, one of which is at the core of z3. Here is a Z3 query that just sticks to the SAT fragment of its capabilities.\n",
        "\n",
        "```python\n",
        "p,q,r,w = Bools(\"p q r w\")\n",
        "solve( And( [Or(p,q), Or(q, Not(w)), Or(w, r, p), Or(r, Not(w))  ] ))\n",
        "```\n",
        "\n",
        "Given a satisfying solution, it is quite easy and efficient to check if it is indeed a satisfying solution by merely plugging the solution. It is this property that puts the SAT problem into complexity class NP.\n",
        "\n",
        "In principle, one can answer the SAT question by a brute force search (a giant nested set of `for` loops), enumerating every possible combination of true/false the variables can take on.\n",
        "\n",
        "However, for every new variable we add the size of the space we are searching is multiplied by 2. Thus brute force becomes an unacceptable approach for a number of variables well below 100.\n",
        "\n",
        "Instead SAT solvers search the space more carefully, trying to deduce and propagate information in a manner somewhat similar to how a human solves a Sudoku puzzle.\n",
        "\n",
        "A revolution in the power of SAT solvers occurred in the 90s/00s where new techniques were found, some of the most prominent of which are backjumping, the two watched literal technique, conflict directed clause learning, and random restarts. An interesting resource to learn more https://www.youtube.com/watch?v=II2RhzwYszQ&ab_channel=SimonsInstitute\n",
        "\n",
        "There are surprising number of useful and interesting questions one can encode into this form to leverage the power of SAT solvers. One very natural application is hardware verification of logical circuits. It is often very useful to even _try_ to twist a problem into a SAT solvable form, because off the shelf solvers have become so good. SAT solvers have even been used to prove previously unproven mathematical conjectures.\n",
        "\n",
        "## SMT solving\n",
        "\n",
        "There are two layers the SMT solver is working at. There may be complex boolean logical structure amenable to a pure SAT solver, but then there is also domain specific structure about the integers, reals, uninterpeted formulas, etc.\n",
        "\n",
        "We can abstract all complex domain specific facts like the truth of $x + y \\ge 7$ as an opaque boolean variables $p$. We then use the technques of SAT solvers to find a satisfying assignment of these variables. But there are implicit constraints required by the actual interpretation of the boolean variables that may not have been apparent to just the SAT search. So we take the truth assignment and query a theory specific solver to see if that particular assignment is possible. If it is, we are done. If it is not, there is a reason it is not. We add this reason to our boolean formula and iterate.\n",
        "\n",
        "This is where the intimidating name Satisfiability Modulo Theories comes from. The solver is solving SAT problems, but only accepting solutions that also make sense in underlying domain specific theories (\"modulo-ing\" those solutions out).\n",
        "\n",
        "In actual SMT solvers, there is no reason to not use domain specific information much earlier than after a full boolean assignment. The only objective is to do things that are logically correct and as fast as possible. The SAT solving and the domain specific querying may be very tightly interwoven.\n",
        "\n",
        "It is helpful to know these things so that you can have some intuition for what Z3 might like or not like. Z3 will likes conjunction (ANDs) formulas. Every disjunction (Or) tends to add branching behavior where Z3 has to pick which one it wants to be true. Z3 has built in procedures and understanding of\n",
        "\n",
        "- propositional logic via SAT solving\n",
        "- linear equations $3x+ 4y == 7$ \n",
        "- linear inequalities  $ 3x + 4y <= 7$\n",
        "- Bitvectors, which can also be reduced to SAT by bit-blasting as a last resort.\n",
        "- Arrays\n",
        "- Algebraic Data Types\n",
        "- Uninterpeted Functions\n",
        "- polynomial equalities $x^2 + y^2 == 2$\n",
        "\n",
        "These pieces give a very powerful and surprisingly flexible base to work from. \n",
        "\n",
        "## What Z3 Can't Do\n",
        "\n",
        "Z3 seems incredibly powerful, and it is. However, you can express far more things to Z3 than it can solve. I've been cherry picking problems I know it handles well.\n",
        "\n",
        "As an example, factoring integers is at the heart of RSA cryptography. While Z3 can factor integers, it can't magically factor even moderately big numbers. "
      ]
    },
    {
      "cell_type": "code",
      "metadata": {
        "id": "YylUoKCsST8N",
        "outputId": "accf2700-a7b3-43d9-f39d-bb647f0d9587",
        "colab": {
          "base_uri": "https://localhost:8080/"
        }
      },
      "source": [
        "x,y = Ints(\"x y\")\n",
        "pubkey = 3\t* 7\n",
        "solve(x * y == pubkey, x > 1, y > 1) # easy peasy"
      ],
      "execution_count": 26,
      "outputs": [
        {
          "output_type": "stream",
          "name": "stdout",
          "text": [
            "[y = 7, x = 3]\n"
          ]
        }
      ]
    },
    {
      "cell_type": "code",
      "metadata": {
        "id": "kWGJ5BVQST8R"
      },
      "source": [
        "x,y = Ints(\"x y\")\n",
        "pubkey = 1000000993\t* 1000001011\n",
        "solve(x * y == pubkey, x > 1, y > 1) # nope"
      ],
      "execution_count": null,
      "outputs": []
    },
    {
      "cell_type": "markdown",
      "metadata": {
        "id": "u3U50zbOST8T"
      },
      "source": [
        "Nonlinear equations in general are going to be tough. Not impossible, but tough. Z3 gives up immediately if you try to find the solution to a seemingly solvable problem involving an exponential. Z3 also can't really understand sines, cosines, and logarithms. The main exception is polynomial equality constraints, for which z3 has an intrinsic understanding, however these routines can be computationally expensive."
      ]
    },
    {
      "cell_type": "code",
      "metadata": {
        "id": "HbqIsxr8ST8V"
      },
      "source": [
        "x = Real('x')\n",
        "s = Solver()\n",
        "s.add(2**x == 3)\n",
        "print(s.check())"
      ],
      "execution_count": null,
      "outputs": []
    },
    {
      "cell_type": "markdown",
      "metadata": {
        "id": "K3l3XhoKST8a"
      },
      "source": [
        "# Proof = Exhaustively Not Finding Counterexamples\n",
        "\n",
        "So far we've been using z3 to find solutions to a set of constraints/formulas. Z3 is so effective at this process that it can be exhaustive and know when there are no solutions to be found. This is useful for theorem proving. If we state a theorem like `Implies(And(p,q),p)` that must be true for any value of `p` and `q`, we can prove its truth by exhaustively search for a counterexample and failng to find one. A counterexample is an assignment of the variables for which the theorem evaluates to false, or equivalently for which the negation `Not(th)` evaluates to true.\n",
        "\n",
        "`solver.check()` may return \n",
        "   - sat - \"I have found a solution. You may ask for it with `solver.model()`\"\n",
        "   - unknown - This means \"I give up\". There may be a solution out there somewhere, there may not.\n",
        "   - unsat - \"I KNOW there is no solution. I've tried EVERYTHING\".\n",
        "\n",
        "Here is a simplified (not even by that much) version of the Z3 convenience function `prove` in which we perform the negation and intepret `unsat` as a proof."
      ]
    },
    {
      "cell_type": "code",
      "metadata": {
        "id": "JDxVQGbKST8b"
      },
      "source": [
        "def prove2(f): # a simplified version of the z3py function \"prove\"\n",
        "    s = Solver()\n",
        "    s.add(Not(f))\n",
        "    if s.check() == unsat:\n",
        "        print(\"proved\")\n",
        "    else:\n",
        "        print(\"failed to prove\")     "
      ],
      "execution_count": 29,
      "outputs": []
    },
    {
      "cell_type": "markdown",
      "metadata": {
        "id": "3VIMYuRNST8c"
      },
      "source": [
        "## Propositional Logic / Boolean Logic\n",
        "\n",
        "Propositional formula are logical formula with boolean variables and logical connectives like and ($\\land$) , or ($\\lor$),  negation ( $ \\neg $ ), and implication $\\implies$. Conceptually, z3 checks all possible assingments of true and false to the variables. If the given formula always evaluates to true under any assignment, z3 states `proved`.\n"
      ]
    },
    {
      "cell_type": "code",
      "metadata": {
        "id": "5MNuzq_wST8e",
        "outputId": "a5fdb915-d395-435c-94bb-62f6dc3a8644",
        "colab": {
          "base_uri": "https://localhost:8080/"
        }
      },
      "source": [
        "# A refresher on basic boolean operations\n",
        "p, q = Bools('p q')\n",
        "print(And(p,q))\n",
        "print(Or(p,q))\n",
        "print(Xor(p,q))\n",
        "print(Not(p))\n",
        "print(Implies(p,q))\n",
        "print(p == q)\n",
        "\n",
        "# a reminder from earlier\n",
        "my_true_thm = Implies(And(p,q), p)\n",
        "prove(my_true_thm)"
      ],
      "execution_count": 30,
      "outputs": [
        {
          "output_type": "stream",
          "name": "stdout",
          "text": [
            "And(p, q)\n",
            "Or(p, q)\n",
            "Xor(p, q)\n",
            "Not(p)\n",
            "Implies(p, q)\n",
            "p == q\n",
            "proved\n"
          ]
        }
      ]
    },
    {
      "cell_type": "markdown",
      "metadata": {
        "id": "QzWUwWTZST8j"
      },
      "source": [
        "### Exercise\n",
        "Prove:\n",
        "- De Morgan's Law `p & q == ~ (~p | ~q)`\n",
        "- `p -> q ==  ~ p | q`\n",
        "- Peirce's Law `((p -> q) -> p) -> p` is always true\n"
      ]
    },
    {
      "cell_type": "code",
      "metadata": {
        "id": "PJHzFQFNST8l"
      },
      "source": [
        "# FILL IN"
      ],
      "execution_count": 31,
      "outputs": []
    },
    {
      "cell_type": "markdown",
      "metadata": {
        "id": "dLXsXeftST8n"
      },
      "source": [
        "\n",
        "\n",
        "\n"
      ]
    },
    {
      "cell_type": "markdown",
      "metadata": {
        "id": "wxGbifryST8n"
      },
      "source": [
        "## Proving properties of arithmetic\n",
        "\n",
        "Z3 is capable of understanding many of the properties that they taught you in arithmetic."
      ]
    },
    {
      "cell_type": "markdown",
      "metadata": {
        "id": "ld1RQ5YMST8n"
      },
      "source": [
        "### Exercise : Properties of Ints, Reals, and Floats\n",
        "Prove or find counterexamples that the mathematical reals and 16 bit floats\n",
        "- Addition commutes `x + y == y + x`\n",
        "- Addition is associative `(x + y) + z == x + (y + z)`\n",
        "- `x` is either less than, equal to, or greater than 0\n",
        "- `x*x` is always non negative"
      ]
    },
    {
      "cell_type": "code",
      "metadata": {
        "id": "66QrVaijST8o"
      },
      "source": [
        "# solution\n",
        "x = Real(\"x\")\n",
        "y = Real(\"y\")\n",
        "z = Real(\"z\")\n",
        "\n",
        "# Prove Properties here\n",
        "# FILL IN\n",
        "\n",
        "x = FP(\"x\", Float16())\n",
        "y = FP(\"y\", Float16())\n",
        "z = FP(\"z\", Float16())\n",
        "\n",
        "# FILL IN"
      ],
      "execution_count": 32,
      "outputs": []
    },
    {
      "cell_type": "markdown",
      "metadata": {
        "id": "J0hohFTwST8p"
      },
      "source": [
        "\n",
        "            \n",
        "    \n"
      ]
    },
    {
      "cell_type": "markdown",
      "metadata": {
        "id": "RYIgoFbNST8p"
      },
      "source": [
        "## * Properties of Vectors\n",
        "\n",
        "I find a sometimes useful trick is to embed python objects into numpy arrays. When you do this, you get numpy array slicing and broadcasting, vectorized addition, matrix multiplication and scalar multiplication for free. Here for example, this makes for succinct expression of some properties of linear algebra."
      ]
    },
    {
      "cell_type": "code",
      "metadata": {
        "id": "tbjVVuxYST8p",
        "outputId": "d1e4c9aa-3e90-414f-b099-757f4c93040e",
        "colab": {
          "base_uri": "https://localhost:8080/"
        }
      },
      "source": [
        "import numpy as np\n",
        "\n",
        "x,y = Reals(\"x y\")\n",
        "q = np.array([x,y]) \n",
        "\n",
        "np.dot(q, q) # dot product\n",
        "np.array([x]) * q # scalar product\n",
        "q * x # scalar product\n",
        "\n",
        "np.RealVal = np.vectorize(RealVal) # simple mapping of functions over a vector\n",
        "\n",
        "import operator as op\n",
        "def vec_eq(x,y):\n",
        "    return And(np.vectorize(op.eq)(x,y).tolist())\n",
        "def NPArray(n, prefix=None, dtype=RealSort()): # a vector of fresh variables.\n",
        "    return np.array( [FreshConst(dtype, prefix=prefix) for i in range(n)] )\n",
        "\n",
        "\n",
        "u = NPArray(2)  \n",
        "v = NPArray(2)\n",
        "w = NPArray(2)\n",
        "\n",
        "prove(vec_eq(   v + u       ,  u + v            )) #commutativity\n",
        "prove(vec_eq(   v + (u + w) , (v + u) + w       )) # associativity\n",
        "prove(vec_eq(  (v + w) * x  , (w * x) + (v * x) ))# scalar distrubitivity\n",
        "prove(np.dot(v, u)**2 <= np.dot(v,v) * np.dot(u,u)) #cauchy schwartz inequality\n",
        "\n",
        "\n",
        "# proving properties of a linear operator defined by a matrix\n",
        "\n",
        "def Z(x):\n",
        "    z = np.RealVal( np.arange(4).reshape(2,2) )\n",
        "    return z @ x\n",
        "\n",
        "def linear(Z):\n",
        "    x = NPArray(2)\n",
        "    y = NPArray(2)\n",
        "    return vec_eq(Z(x + y), Z(x) + Z(y))\n",
        "\n",
        "\n",
        "p = linear(Z)\n",
        "prove(p)\n"
      ],
      "execution_count": 33,
      "outputs": [
        {
          "output_type": "stream",
          "name": "stdout",
          "text": [
            "proved\n",
            "proved\n",
            "proved\n",
            "proved\n",
            "proved\n"
          ]
        }
      ]
    },
    {
      "cell_type": "markdown",
      "metadata": {
        "id": "e8UPV1OeST8r"
      },
      "source": [
        "## * Geometric Theorem Proving\n",
        "\n",
        "You can convert geometric theorems into systems of polynomial equations.\n",
        "\n",
        "Consider the following. You have a circle with a diameter. Pick an arbitrary point on the circle and connect it with lines to the points on the diameter. Is the angle formed by these lines a perpendicular angle?\n",
        "\n",
        "Two useful definitions:\n",
        "\n",
        "- A point can be constrained to a circle by `x**2 + y**2 == R**2`. \n",
        "- Perpendicularity can be defined as the dot product of the vectors going along the two lines is 0. \n",
        "\n",
        "![my_circle](https://github.com/philzook58/z3_tutorial/blob/master/images/circle_diagram.png?raw=1)"
      ]
    },
    {
      "cell_type": "code",
      "metadata": {
        "id": "94uS3v4aST8r",
        "outputId": "1cd3b22f-9d1e-4aff-ca53-63d13103d5e8",
        "colab": {
          "base_uri": "https://localhost:8080/"
        }
      },
      "source": [
        "x, y = Reals(\"x y\") # point on circle\n",
        "# assume wlog horizontal diameter y = 0. Hits circle at x = 1, x = -1\n",
        "d1 = (x - 1, y) # vector along line 1\n",
        "d2 = (x + 1, y) # vector along line 2\n",
        "perp = d1[0]*d2[0]+d1[1]*d2[1] == 0 #perpendicularity constraint\n",
        "prove(Implies(x**2 + y**2 == 1, perp))"
      ],
      "execution_count": 34,
      "outputs": [
        {
          "output_type": "stream",
          "name": "stdout",
          "text": [
            "proved\n"
          ]
        }
      ]
    },
    {
      "cell_type": "markdown",
      "metadata": {
        "id": "2x7T7TynST8s"
      },
      "source": [
        "## * Axiomatic Groups\n",
        "\n",
        "A [Group](https://en.wikipedia.org/wiki/Group_(mathematics\\)) is a mathematical abstraction of the properties of symmettries. It is a set with a binary operation that is associative and an inverse operation. Common examples include integers, matrices, and polynomials.\n",
        "Z3 has sufficient expressive power to directly express the axiomatic formulation of a group. Z3's solving capabilities become less reliable in the presence of quantifiers so your mileage may vary.\n"
      ]
    },
    {
      "cell_type": "code",
      "metadata": {
        "id": "yVRoRajyST8t",
        "outputId": "b2ef0445-5c69-4654-a152-508abfeb3a98",
        "colab": {
          "base_uri": "https://localhost:8080/",
          "height": 0
        }
      },
      "source": [
        "G = DeclareSort(\"G\")\n",
        "e,a,b,c = Consts(\"e a b c\", G)\n",
        "times = Function('*', G,G, G)\n",
        "inv = Function('~', G,G)\n",
        "\n",
        "axioms = [\n",
        "  ForAll([a], times(inv(a),a) == e ),\n",
        "  ForAll([a], times(a,inv(a)) == e ),\n",
        "  ForAll([a], times(e,a) == a ),\n",
        "  ForAll([a], times(a,e) == a ),\n",
        "  ForAll([a,b,c] , times(a,times(b,c)) == times(times(a,b),c))\n",
        "]\n",
        "\n",
        "# A simple theorem\n",
        "s = Solver()\n",
        "s.add(axioms)\n",
        "theorem = inv(times(a,b)) == times(inv(b), inv(a))\n",
        "s.add(Not(theorem))\n",
        "s.check()"
      ],
      "execution_count": 35,
      "outputs": [
        {
          "output_type": "execute_result",
          "data": {
            "text/html": [
              "<b>unsat</b>"
            ],
            "text/plain": [
              "unsat"
            ]
          },
          "metadata": {},
          "execution_count": 35
        }
      ]
    },
    {
      "cell_type": "markdown",
      "metadata": {
        "id": "RZTVtrKBST8u"
      },
      "source": [
        "## * An Inductive Fact About a Sum\n",
        "\n",
        "Z3 can crush finite structures, but isn't particularly designed for proving facts about the infinite. Questions like these need some kind of inductive reaosning.\n",
        "Here is an example trying to prove a closed form for the sum $\\sum_{i=0}^n i = \\frac{n(n+1)}{2}$"
      ]
    },
    {
      "cell_type": "code",
      "metadata": {
        "id": "fDqB1K6RST8v",
        "outputId": "ee9ae1a5-a286-470e-fe40-3c89fd695736",
        "colab": {
          "base_uri": "https://localhost:8080/",
          "height": 0
        }
      },
      "source": [
        "n = Int(\"n\")\n",
        "Sumn = Function(\"sumn\", IntSort(), IntSort())\n",
        "s = Solver()\n",
        "s.add( Sumn(0) == 0)\n",
        "s.add(ForAll([n], Sumn(n+1) == n + 1 + Sumn(n)))\n",
        "s.add(Not(ForAll([n], Implies(n >= 0, 2 * Sumn(n) == n * (n + 1)))))\n",
        "s.check()"
      ],
      "execution_count": 36,
      "outputs": [
        {
          "output_type": "execute_result",
          "data": {
            "text/html": [
              "<b>unknown</b>"
            ],
            "text/plain": [
              "unknown"
            ]
          },
          "metadata": {},
          "execution_count": 36
        }
      ]
    },
    {
      "cell_type": "markdown",
      "metadata": {
        "id": "sI_7PTMaST8v"
      },
      "source": [
        "By maually instantiating an induction principle, we can get this to go through forever, however this process is not at all fool proof. Ultimately, it appears that complicated questions like these are best treated in interactive proof assistants like Coq."
      ]
    },
    {
      "cell_type": "code",
      "metadata": {
        "id": "SJDRooqGST8w",
        "outputId": "65e94da8-e567-4091-9c68-27d98420af62",
        "colab": {
          "base_uri": "https://localhost:8080/"
        }
      },
      "source": [
        "n = Int(\"n\")\n",
        "Sumn = Function(\"sumn\", IntSort(), IntSort())\n",
        "s = Solver()\n",
        "# defining sum(n) = 1 + 2 + 3 + ... n\n",
        "s.add( Sumn(0) == 0)\n",
        "s.add(ForAll([n], Sumn(n+1) == n + 1 + Sumn(n)))\n",
        "def prop_sumn(n):\n",
        "    return 2 * Sumn(n) == n * (n + 1)\n",
        "def induction(p):\n",
        "    n = Int(\"n\")\n",
        "    return Implies(And(  p(0),    ForAll([n],Implies(And(n >= 0, p(n)),p(n+1)))),\n",
        "                     # --------------------------------------------------------\n",
        "                       ForAll( [n] , Implies(n>=0, p(n))))\n",
        "s.add(induction(prop_sumn))\n",
        "s.add( Not(ForAll([n], Implies( n >= 0, prop_sumn(n)))))\n",
        "if s.check() == unsat:\n",
        "    print(\"proved\")"
      ],
      "execution_count": 37,
      "outputs": [
        {
          "output_type": "stream",
          "name": "stdout",
          "text": [
            "proved\n"
          ]
        }
      ]
    },
    {
      "cell_type": "markdown",
      "metadata": {
        "id": "8TJ1hO4eST8x"
      },
      "source": [
        "# Proving Programs\n",
        "\n",
        "So far we've been dealing with things that seem like puzzles or pure math. Now we have enough tools in our toolbox to attack problems that feel more directly related to programming.\n"
      ]
    },
    {
      "cell_type": "markdown",
      "metadata": {
        "id": "NdnDyAFWST8y"
      },
      "source": [
        "## Bit Tricks\n",
        "\n",
        "Some low level hacks are very popular with C programmers. Here is a list of cool bit tricks\n",
        "http://graphics.stanford.edu/~seander/bithacks.html\n",
        "\n",
        "### Power of two\n",
        "This hack is frequently used in C programs (Z3 included) to test whether a machine integer is a power of two. We can use Z3 to prove it really works. To understand this hack, it helps to look at the boolean form of these numbers. It seems that x - 1 and x share no 1s if and only if x is a power of 2. "
      ]
    },
    {
      "cell_type": "code",
      "metadata": {
        "id": "15T9ZpuUST8y",
        "outputId": "9904dfe9-8e38-4b59-8fbe-582425a443b4",
        "colab": {
          "base_uri": "https://localhost:8080/"
        }
      },
      "source": [
        "print(format(2**13, '016b'))\n",
        "print(format(2**13-1, '016b'))"
      ],
      "execution_count": 38,
      "outputs": [
        {
          "output_type": "stream",
          "name": "stdout",
          "text": [
            "0010000000000000\n",
            "0001111111111111\n"
          ]
        }
      ]
    },
    {
      "cell_type": "code",
      "metadata": {
        "id": "07FzoW-nST8z",
        "outputId": "7e2ab2b4-dc70-422a-8d61-cd997a5a6a54",
        "colab": {
          "base_uri": "https://localhost:8080/"
        }
      },
      "source": [
        "# A non power of two\n",
        "print(format(42, '016b'))\n",
        "print(format(42-1, '016b'))"
      ],
      "execution_count": 39,
      "outputs": [
        {
          "output_type": "stream",
          "name": "stdout",
          "text": [
            "0000000000101010\n",
            "0000000000101001\n"
          ]
        }
      ]
    },
    {
      "cell_type": "code",
      "metadata": {
        "id": "YagRhisDST80",
        "outputId": "28838f49-064a-4b8f-a836-3b75340ca2ce",
        "colab": {
          "base_uri": "https://localhost:8080/"
        }
      },
      "source": [
        "import numpy as np\n",
        "\n",
        "def is_pow2_slow(x):\n",
        "    return x in [2 ** i for i in range(32)]\n",
        "def is_pow2_fast(x):\n",
        "    return not x & (x - 1)\n",
        "\n",
        "# Tests\n",
        "print([is_pow2_fast(2**i) for i in range(32)])\n",
        "print([ i for i in np.random.randint(2**32, size=100000) if is_pow2_fast(i) != is_pow2_slow(i)  ])"
      ],
      "execution_count": 40,
      "outputs": [
        {
          "output_type": "stream",
          "name": "stdout",
          "text": [
            "[True, True, True, True, True, True, True, True, True, True, True, True, True, True, True, True, True, True, True, True, True, True, True, True, True, True, True, True, True, True, True, True]\n",
            "[]\n"
          ]
        }
      ]
    },
    {
      "cell_type": "code",
      "metadata": {
        "id": "K5ZzGZg4ST82",
        "outputId": "62d3e4b6-ab76-4bfb-ec4c-480d4f119e1b",
        "colab": {
          "base_uri": "https://localhost:8080/"
        }
      },
      "source": [
        "x      = BitVec('x', 32)\n",
        "fast   = x & (x - 1) == 0\n",
        "powers = [ 2**i for i in range(32) ]\n",
        "slow   = Or([ x == p for p in powers ])\n",
        "prove(fast == slow)"
      ],
      "execution_count": 41,
      "outputs": [
        {
          "output_type": "stream",
          "name": "stdout",
          "text": [
            "counterexample\n",
            "[x = 0]\n"
          ]
        }
      ]
    },
    {
      "cell_type": "markdown",
      "metadata": {
        "id": "3u1pu8w4ST82"
      },
      "source": [
        "Really? But my spiel sounded so good."
      ]
    },
    {
      "cell_type": "code",
      "metadata": {
        "id": "qfsJtFgCST83",
        "outputId": "2bb7695f-e517-43d7-d7e9-09f6144db34e",
        "colab": {
          "base_uri": "https://localhost:8080/"
        }
      },
      "source": [
        "print(is_pow2_slow(0))\n",
        "print(is_pow2_fast(0))"
      ],
      "execution_count": 42,
      "outputs": [
        {
          "output_type": "stream",
          "name": "stdout",
          "text": [
            "False\n",
            "True\n"
          ]
        }
      ]
    },
    {
      "cell_type": "markdown",
      "metadata": {
        "id": "drrdKcZjST83"
      },
      "source": [
        "Yes, this is a counter example. Some funny behavior happens subtracting at 0 when looking at the bit representation. What about it we exclude that case."
      ]
    },
    {
      "cell_type": "code",
      "metadata": {
        "id": "w8Mgzx1mST83",
        "outputId": "c40a8f79-795d-4c8c-9512-a36f20ae5d6f",
        "colab": {
          "base_uri": "https://localhost:8080/"
        }
      },
      "source": [
        "def is_pow2_fast(x):\n",
        "    return x != 0 and not x & (x - 1)\n",
        "\n",
        "fast = And(x != 0, x & (x - 1) == 0)\n",
        "prove(fast == slow)"
      ],
      "execution_count": 43,
      "outputs": [
        {
          "output_type": "stream",
          "name": "stdout",
          "text": [
            "proved\n"
          ]
        }
      ]
    },
    {
      "cell_type": "markdown",
      "metadata": {
        "id": "dBSfcm-6ST84"
      },
      "source": [
        "Nice."
      ]
    },
    {
      "cell_type": "markdown",
      "metadata": {
        "id": "XVAEjNeCST84"
      },
      "source": [
        "### Exercise: Exactly One Negative\n",
        "The following bit trick gives a fast way to determine if exactly one of 2 given integers is negative. The reason it works is because in the two's comnplement encoding of negative numbers the most significant bit is a [sign bit](https://en.wikipedia.org/wiki/Sign_bit)."
      ]
    },
    {
      "cell_type": "code",
      "metadata": {
        "id": "TarKv0ztST84",
        "outputId": "5726f58f-84c8-4edb-9578-13a7b936134b",
        "colab": {
          "base_uri": "https://localhost:8080/"
        }
      },
      "source": [
        "def opposite_signs_fast(x,y):\n",
        "    return x ^ y < 0\n",
        "def opposite_signs_slow(x,y):\n",
        "    if x < 0 and y >= 0:\n",
        "        return True\n",
        "    if x >= 0 and y < 0:\n",
        "        return True\n",
        "    return False\n",
        "\n",
        "print( [ (i,j) for i in range(-2,2) for j in range(-2,2) if opposite_signs_fast(i,j) ])\n",
        "print( [ (i,j) for i in range(-2,2) for j in range(-2,2) if opposite_signs_slow(i,j) ])"
      ],
      "execution_count": 44,
      "outputs": [
        {
          "output_type": "stream",
          "name": "stdout",
          "text": [
            "[(-2, 0), (-2, 1), (-1, 0), (-1, 1), (0, -2), (0, -1), (1, -2), (1, -1)]\n",
            "[(-2, 0), (-2, 1), (-1, 0), (-1, 1), (0, -2), (0, -1), (1, -2), (1, -1)]\n"
          ]
        }
      ]
    },
    {
      "cell_type": "code",
      "metadata": {
        "id": "lr66aWvQST85"
      },
      "source": [
        "x = BitVec('x', 32)\n",
        "y = BitVec('y', 32)\n",
        "\n",
        "# FILL IN\n"
      ],
      "execution_count": 45,
      "outputs": []
    },
    {
      "cell_type": "markdown",
      "metadata": {
        "id": "6wFmALj0ST85"
      },
      "source": [
        "## Symbolic Execution and Bounded Model Checking\n",
        "It is fairly straightforward with a few tricks to directly translate a program into a Z3 expression. Depending on the community, goals, and differences in search strategy this technique goes by the name of symbolic execution or bounded model checking.\n",
        "\n",
        "Here are some real world projects that are interesting to check out\n",
        "\n",
        "- https://klee.github.io/ Klee Symbolic Execution Engine\n",
        "- http://www.esbmc.org/ ESMBC \n",
        "- https://apalache.informal.systems/ Apalache - Bounded Model Checking for TLA+\n",
        "\n",
        "### Assignment and Equality\n",
        "\n",
        "Consider this simple program"
      ]
    },
    {
      "cell_type": "code",
      "metadata": {
        "id": "T_9VByxXST85"
      },
      "source": [
        "def foo(x):\n",
        "    y = 2*x + 4\n",
        "    z = y*y\n",
        "    assert(z >= 0)\n",
        "    return z"
      ],
      "execution_count": 46,
      "outputs": []
    },
    {
      "cell_type": "markdown",
      "metadata": {
        "id": "Bpu0hY_xST86"
      },
      "source": [
        "We can translate this to Z3 with very few changes"
      ]
    },
    {
      "cell_type": "code",
      "metadata": {
        "id": "_m-oEhD6ST86"
      },
      "source": [
        "x,y,z = Ints(\"x y z\")\n",
        "prog = [\n",
        "  y == 2 * x + 4,\n",
        "  z == y * y\n",
        "]"
      ],
      "execution_count": 47,
      "outputs": []
    },
    {
      "cell_type": "markdown",
      "metadata": {
        "id": "r9I9j5q9ST86"
      },
      "source": [
        "We can ask Z3 if this always returns a positive number"
      ]
    },
    {
      "cell_type": "code",
      "metadata": {
        "id": "y2hyz9AKST86",
        "outputId": "db991cce-3195-4610-cec0-9f2c615b1bee",
        "colab": {
          "base_uri": "https://localhost:8080/",
          "height": 34
        }
      },
      "source": [
        "s = Solver()\n",
        "s.add(prog)\n",
        "s.add( Not(z >= 0) )\n",
        "s.check()"
      ],
      "execution_count": 48,
      "outputs": [
        {
          "output_type": "execute_result",
          "data": {
            "text/html": [
              "<b>unsat</b>"
            ],
            "text/plain": [
              "unsat"
            ]
          },
          "metadata": {},
          "execution_count": 48
        }
      ]
    },
    {
      "cell_type": "markdown",
      "metadata": {
        "id": "ZBg_I2UWST87"
      },
      "source": [
        "Now consider this program"
      ]
    },
    {
      "cell_type": "code",
      "metadata": {
        "id": "7mTOB2MlST87"
      },
      "source": [
        "def foo(x):\n",
        "    x = 2*x + 4\n",
        "    x = x*x\n",
        "    assert(x >= 0)\n",
        "    return x"
      ],
      "execution_count": 49,
      "outputs": []
    },
    {
      "cell_type": "markdown",
      "metadata": {
        "id": "DGSIAUKdST87"
      },
      "source": [
        "The following is not an accurate translation of this program. Why?"
      ]
    },
    {
      "cell_type": "code",
      "metadata": {
        "id": "82F_vKR_ST88"
      },
      "source": [
        "x = Int(\"x\")\n",
        "prog = [\n",
        "  x == 2 * x + 4,\n",
        "  x == x * x\n",
        "]"
      ],
      "execution_count": 50,
      "outputs": []
    },
    {
      "cell_type": "markdown",
      "metadata": {
        "id": "Fa_jb1sFST89"
      },
      "source": [
        "The issue is subtle differences between incompatible notions of equality. This is not just a Z3 issue.\n",
        "Consider the difference between these two statements.\n",
        "\n",
        "```\n",
        "x = 3\n",
        "x == 3\n",
        "```\n",
        "The first assigns `x` to the number 3. The second checks if `x` holds the number 3. Both could be called \"equals\" but are very different. You could imagine a beginner programmer being confused on this point.\n",
        "\n",
        "Z3 is static. It has no intrinsic notion of time or mutation. Its expressions are like those taught to you in algebra class rather than in your programming class.\n",
        "\n",
        "When we're modelling a programming language with mutation in Z3, we need to translate the mutational `=` to Z3's notion of `==`. One way to do so is to make every new assignment go to a fresh variable.\n"
      ]
    },
    {
      "cell_type": "code",
      "metadata": {
        "id": "EGgoOhZUST8_"
      },
      "source": [
        "def foo(x):\n",
        "    x1 = 2*x + 4\n",
        "    x2 = x1*x1\n",
        "    return x2\n",
        "\n",
        "x,x1,x2 = Ints(\"x x1 x2\")\n",
        "prog = [\n",
        "  x1 == 2 * x + 4,\n",
        "  x2 == x1 * x1\n",
        "]"
      ],
      "execution_count": 51,
      "outputs": []
    },
    {
      "cell_type": "markdown",
      "metadata": {
        "id": "Z3Cj7PP9ST9C"
      },
      "source": [
        "This transformation is commonly used in compiler's where it is known as Single Static Assignment https://en.wikipedia.org/wiki/Static_single_assignment_form . The sameness of `x` at different points in your code is an abstraction. Your language may not be guarantee that variables named `x` really are the same location in memory at different points in your function language. They may be flipping things in and out of registers and memory as the compiler sees fit.\n"
      ]
    },
    {
      "cell_type": "markdown",
      "metadata": {
        "id": "4_wnlr1SST9I"
      },
      "source": [
        "### Branches\n",
        "Describing branching which is a dynamic process to the static Z3 also takes a little ingenuity. Now the value a variable takes on depends on which branch control came from"
      ]
    },
    {
      "cell_type": "code",
      "metadata": {
        "id": "fwrcl5IGST9e"
      },
      "source": [
        "def foo(x):\n",
        "    if x <= 0:\n",
        "        y = x\n",
        "    else:\n",
        "        y = -x\n",
        "    z = y*y\n",
        "    assert(z >= 0)\n",
        "    return z"
      ],
      "execution_count": 52,
      "outputs": []
    },
    {
      "cell_type": "code",
      "metadata": {
        "id": "IwAhMu4mST9i",
        "outputId": "2be924f1-76f2-48b0-8cd5-e8f85c2e42e0",
        "colab": {
          "base_uri": "https://localhost:8080/"
        }
      },
      "source": [
        "x,y,z = Ints(\"x y z\")\n",
        "prog = [\n",
        "    If(x <= 0, y == x, y == -x),\n",
        "    z == y * y\n",
        "]\n",
        "prove( Implies(And(prog), z >= 0) )"
      ],
      "execution_count": 53,
      "outputs": [
        {
          "output_type": "stream",
          "name": "stdout",
          "text": [
            "proved\n"
          ]
        }
      ]
    },
    {
      "cell_type": "markdown",
      "metadata": {
        "id": "BD9j13qBST9j"
      },
      "source": [
        "#### Exercise: Two Sort\n",
        "\n",
        "Consider the following program which sorts x and y. This is the simplest possible sorting algorithm that deserves the name.\n",
        "Translate this to z3 and prove that the result of this program `(a,b)` has the property `a <= b`. Does this property specify the function is a sorting algorithm?"
      ]
    },
    {
      "cell_type": "code",
      "metadata": {
        "id": "0xZj6gAlST9j"
      },
      "source": [
        "def sort(x,y):\n",
        "    if y < x:\n",
        "        temp = x\n",
        "        x = y\n",
        "        y = temp\n",
        "    else:\n",
        "        x = x\n",
        "        y = y\n",
        "    assert(x <= y)\n",
        "    return (x,y)"
      ],
      "execution_count": 54,
      "outputs": []
    },
    {
      "cell_type": "code",
      "metadata": {
        "id": "EiWdjvZ0ST9j"
      },
      "source": [
        "# FILL IN"
      ],
      "execution_count": 55,
      "outputs": []
    },
    {
      "cell_type": "markdown",
      "metadata": {
        "id": "72ZRWW07ST9k"
      },
      "source": [
        "## * Loops\n",
        "\n",
        "The simplest and most effective way to deal with looping behavior is to simply unroll the loops. This is simple when the number of executions are known. The following two programs are equivalent.\n"
      ]
    },
    {
      "cell_type": "code",
      "metadata": {
        "id": "nej0WPsxST9n"
      },
      "source": [
        "def foo(x):\n",
        "    for i in range(3):\n",
        "        x = x*x\n",
        "    return x\n",
        "\n",
        "def foo(x):\n",
        "    x = x*x\n",
        "    x = x*x\n",
        "    x = x*x\n",
        "    return x\n",
        "\n",
        "x,x1,x2,x3 = Ints(\"x x1 x2 x3\")\n",
        "prog = [\n",
        "    x1 == x*x,\n",
        "    x2 == x1*x1,\n",
        "    x3 == x2*x2,\n",
        "]"
      ],
      "execution_count": 56,
      "outputs": []
    },
    {
      "cell_type": "markdown",
      "metadata": {
        "id": "9VNKFdwwST9q"
      },
      "source": [
        "When the bound on the loop isn't known (which is very common) a strategy is to just unroll the loop a bounded amount. Counterexamples returned can be confirmed as counterexamples. Sometimes false counterexamples may be returned, in which case one may increase the number of loop executions. This is the strategy from which Bounded Model Checking receives it's name."
      ]
    },
    {
      "cell_type": "markdown",
      "metadata": {
        "id": "qSyP62AGST9q"
      },
      "source": [
        "### * Verifying the Babylonian Square Root Method\n",
        "\n",
        "The babylonian method is an iterative procedure for computing square roots. You take an initial guess and then compute the next iteration using the formula\n",
        "$ x_{n+1} = \\frac{1}{2}(\\frac{r}{x_n} + x_n)$\n",
        "Intuitively, if your current $x$ is low for the square root of $r$, $\\frac{r}{x}$ is high. If $x$ is high, $\\frac{r}{x}$ is low. So if you take the average of the two, you're hopefully getting closer to the real answer.\n",
        "We can also see that if you are precisely at the square root $x = \\sqrt{r}$, (r/x + x)/2 is a fixed point of the iteration. $\\frac{1}{2}(\\frac{r}{x} + x) = \\frac{1}{2}(\\frac{r}{\\sqrt{r}} + \\sqrt{r}) = \\sqrt{r}$\n",
        "\n",
        "How good is the method after 7 iterations though? What precision can we rely on? Well, we can ask z3 to prove a bound."
      ]
    },
    {
      "cell_type": "code",
      "metadata": {
        "id": "ZIfZbDn2ST9q",
        "outputId": "1db7d2e3-933d-408b-82ff-4b34fdeafd0b",
        "colab": {
          "base_uri": "https://localhost:8080/"
        }
      },
      "source": [
        "def babylonian(x):\n",
        "    res = 1\n",
        "    for i in range(7):\n",
        "        res = (x / res + res) / 2\n",
        "    return res    \n",
        "\n",
        "def bab_iter(x, y):\n",
        "    return (x / y + y) / 2\n",
        "\n",
        "x, y = Reals(\"x y\")\n",
        "prove(Implies(And(y**2 == x, y >= 0, 0 <= x, x <= 10), babylonian(x) - y <= 0.01))"
      ],
      "execution_count": 57,
      "outputs": [
        {
          "output_type": "stream",
          "name": "stdout",
          "text": [
            "proved\n"
          ]
        }
      ]
    },
    {
      "cell_type": "code",
      "metadata": {
        "id": "070z1AZ7ST9r",
        "outputId": "b8609d29-6678-4160-c4e4-0f27928eff8e",
        "colab": {
          "base_uri": "https://localhost:8080/",
          "height": 0
        }
      },
      "source": [
        "# This is also pretty convincing\n",
        "import matplotlib.pyplot as plt\n",
        "import numpy as np\n",
        "xs = np.linspace(0,10)\n",
        "plt.plot( xs, babylonian(xs)- np.sqrt(xs))\n",
        "plt.show()\n"
      ],
      "execution_count": 58,
      "outputs": [
        {
          "output_type": "display_data",
          "data": {
            "image/png": "[encoded data removed]",
            "text/plain": [
              "<Figure size 432x288 with 1 Axes>"
            ]
          },
          "metadata": {
            "needs_background": "light"
          }
        }
      ]
    },
    {
      "cell_type": "markdown",
      "metadata": {
        "id": "PQ_qXgkOST9r"
      },
      "source": [
        "## * Weakest Precondition\n",
        "\n",
        "Another useful and popular technique for translating programs to logical queries is the method of [predicate transformers](https://en.wikipedia.org/wiki/Predicate_transformer_semantics) of which Weakest Precondition is the most commonly encountered. In this method, the program statements are interpreted as acting upon logical formulas of the states of the computer, for example replacing a variable in the formula can be used to interpret assignment. A logical formula can be thought of as representing the set of states of the computer for which the formula is true. We can determine whether sets of states in the program remain in the \"safe\" set of states of the specification via a Z3 query.\n",
        "\n",
        "For a more in depth example of using Z3Py to perform a Weakest Precondition analysis in the style of this tutorial, check out this blog post https://www.philipzucker.com/weakest-precondition-z3py/\n",
        "\n",
        "For systems that implement variations of this technique over real languages see\n",
        "\n",
        "- Dafny https://rise4fun.com/Dafny/tutorial\n",
        "- ADA/Spark https://www.adacore.com/about-spark\n",
        "- Why3 http://why3.lri.fr/\n",
        "- Frama-C https://frama-c.com/\n",
        "- JML https://www.openjml.org/\n",
        "- Viper https://www.pm.inf.ethz.ch/research/viper.html\n"
      ]
    },
    {
      "cell_type": "markdown",
      "metadata": {
        "id": "T4Cpt3qgST9r"
      },
      "source": [
        "## Sorting Networks\n",
        "\n",
        "[Sorting networks](https://en.wikipedia.org/wiki/Sorting_network) are a circuit flavored take on sorting. Although you can build circuits for any size input, any paritcular circuit works for a fixed sized input. They are like an unrolling of the loops or recursion of regular style sorting algorithms.\n",
        "\n",
        "\n",
        "Here's an interesting thing. We can go to Wikipedia and get a little python snippet for the comparison order of a [Batcher even-odd mergesort](https://en.wikipedia.org/w/index.php?title=Batcher_odd%E2%80%93even_mergesort&oldid=969926478) Kind of a confusing algorithm. Why does it even work? Is it even right?\n",
        "\n",
        "<img src=\"https://github.com/philzook58/z3_tutorial/blob/master/images/batcher.png?raw=1\" alt=\"Drawing\" style=\"width: 500px;\"/>"
      ]
    },
    {
      "cell_type": "code",
      "metadata": {
        "id": "qffbt5ArST9s",
        "outputId": "65a5120b-4d5c-457f-e664-81ba5f88f4b3",
        "colab": {
          "base_uri": "https://localhost:8080/"
        }
      },
      "source": [
        "# from https://en.wikipedia.org/w/index.php?title=Batcher_odd%E2%80%93even_mergesort&oldid=969926478\n",
        "def oddeven_merge(lo: int, hi: int, r: int):\n",
        "    step = r * 2\n",
        "    if step < hi - lo:\n",
        "        yield from oddeven_merge(lo, hi, step)\n",
        "        yield from oddeven_merge(lo + r, hi, step)\n",
        "        yield from [(i, i + r) for i in range(lo + r, hi - r, step)]\n",
        "    else:\n",
        "        yield (lo, lo + r)\n",
        "\n",
        "def oddeven_merge_sort_range(lo: int, hi: int):\n",
        "    \"\"\" sort the part of x with indices between lo and hi.\n",
        "\n",
        "    Note: endpoints (lo and hi) are included.\n",
        "    \"\"\"\n",
        "    if (hi - lo) >= 1:\n",
        "        # if there is more than one element, split the input\n",
        "        # down the middle and first sort the first and second\n",
        "        # half, followed by merging them.\n",
        "        mid = lo + ((hi - lo) // 2)\n",
        "        yield from oddeven_merge_sort_range(lo, mid)\n",
        "        yield from oddeven_merge_sort_range(mid + 1, hi)\n",
        "        yield from oddeven_merge(lo, hi, 1)\n",
        "\n",
        "def oddeven_merge_sort(length: int):\n",
        "    \"\"\" \"length\" is the length of the list to be sorted.\n",
        "    Returns a list of pairs of indices starting with 0 \"\"\"\n",
        "    yield from oddeven_merge_sort_range(0, length - 1)\n",
        "\n",
        "def compare_and_swap(x, a, b) -> None:\n",
        "    if x[a] > x[b]:\n",
        "        x[a], x[b] = x[b], x[a]\n",
        "        \n",
        "list(oddeven_merge_sort(8)) # compare and swap sequence for 8 items"
      ],
      "execution_count": 59,
      "outputs": [
        {
          "output_type": "execute_result",
          "data": {
            "text/plain": [
              "[(0, 1),\n",
              " (2, 3),\n",
              " (0, 2),\n",
              " (1, 3),\n",
              " (1, 2),\n",
              " (4, 5),\n",
              " (6, 7),\n",
              " (4, 6),\n",
              " (5, 7),\n",
              " (5, 6),\n",
              " (0, 4),\n",
              " (2, 6),\n",
              " (2, 4),\n",
              " (1, 5),\n",
              " (3, 7),\n",
              " (3, 5),\n",
              " (1, 2),\n",
              " (3, 4),\n",
              " (5, 6)]"
            ]
          },
          "metadata": {},
          "execution_count": 59
        }
      ]
    },
    {
      "cell_type": "markdown",
      "metadata": {
        "id": "SGrW8N7YST9s"
      },
      "source": [
        "Well we can confirm this relatively straightforwardly using z3 by replacing the implementation of compare_and_swap with it's z3 equivalent."
      ]
    },
    {
      "cell_type": "code",
      "metadata": {
        "id": "B1q2_V09ST9t"
      },
      "source": [
        "def compare_and_swap_z3(x,y):\n",
        "    x1, y1 = FreshInt(), FreshInt()\n",
        "    c = If(x <= y, And(x1 == x, y1 == y) , And(x1 == y, y1 == x) )\n",
        "    return x1, y1, c"
      ],
      "execution_count": 60,
      "outputs": []
    },
    {
      "cell_type": "markdown",
      "metadata": {
        "id": "eXQmjGElST9u"
      },
      "source": [
        "It's somewhat interesting to note that the output of odd_even_merge is a sequence of instructions, we can think of this as intepreting a very small 1 instruction (compare_and_swap) programming language."
      ]
    },
    {
      "cell_type": "code",
      "metadata": {
        "id": "SO-hu9U1ST9u",
        "outputId": "abf6965b-f877-42ef-ee1b-365c338f5126",
        "colab": {
          "base_uri": "https://localhost:8080/"
        }
      },
      "source": [
        "# predicates of interest\n",
        "def sorted_list(x): # list is sorted\n",
        "    return And([x <= y for x,y in zip(x , x[1:])])\n",
        "\n",
        "def verify_network(pairs_to_compare, N):\n",
        "    s = Solver()\n",
        "\n",
        "    a = [Int(f\"x_{i}\") for i in range(N)] #build initial array in z3 variables\n",
        "\n",
        "    #a_orig = a.copy() # keep around copy for correctness predicate\n",
        "    for i,j in pairs_to_compare:\n",
        "       x = a[i]\n",
        "       y = a[j]\n",
        "       x1, y1, c = compare_and_swap_z3(x,y) \n",
        "       a[i] = x1\n",
        "       a[j] = y1\n",
        "       s.add(c)\n",
        "\n",
        "    s.add(Not(sorted_list(a)))\n",
        "    if s.check() == unsat:\n",
        "        print(\"proved\")\n",
        "        return True\n",
        "    else:\n",
        "        return False\n",
        "N = 8\n",
        "verify_network(list(oddeven_merge_sort(N)), N)"
      ],
      "execution_count": 61,
      "outputs": [
        {
          "output_type": "stream",
          "name": "stdout",
          "text": [
            "proved\n"
          ]
        },
        {
          "output_type": "execute_result",
          "data": {
            "text/plain": [
              "True"
            ]
          },
          "metadata": {},
          "execution_count": 61
        }
      ]
    },
    {
      "cell_type": "markdown",
      "metadata": {
        "id": "gvh54jwLST9v"
      },
      "source": [
        "Here's a reasonable sounding question: Can we prove that the Batcher even-odd sort is correct for all possible sizes N? \n",
        "Actually, this is very difficult to express in Z3 because here we run into a usage of induction, something Z3 is rather weak at.\n",
        "In fact such a question is best verified by a tool like Coq, which Cody will talk about tomorrow."
      ]
    },
    {
      "cell_type": "markdown",
      "metadata": {
        "id": "lDQYb1DVST9w"
      },
      "source": [
        "### Synthesis of Optimal Sorting Networks\n",
        "An optimal sorting network is one that uses the minimal number of compare and swap operations. The batcher even-odd merge sort is good, but perhaps not optimal. What is? We we can find it by enumerating all possible combinations of compare and swaps and the finding one that passes verification as a sorting algorithm. This is an example of program synethesis."
      ]
    },
    {
      "cell_type": "code",
      "metadata": {
        "id": "x0WIyFr-ST9w",
        "outputId": "e0c20ed8-f584-4492-89b7-e559f1b77d82",
        "colab": {
          "base_uri": "https://localhost:8080/"
        }
      },
      "source": [
        "\n",
        "def all_swaps(m): # all pairs of integers from 0 to m-1\n",
        "    return [ [(i, j)] for i in range(m) for j in range(i+1, m) ]\n",
        "    \n",
        "# All list of length n on swaps on m wires \n",
        "def all_networks(m, n): \n",
        "   if n == 0:\n",
        "     return []\n",
        "   elif n == 1:\n",
        "     return all_swaps(m)\n",
        "   else:\n",
        "     return [ c + swap for c in all_networks(m,n-1) for swap in all_swaps(m)]\n",
        "\n",
        "\n",
        "def synthesize(N):\n",
        "    for n in range(N**2): # we can definitely do it in N*2 gates.\n",
        "       print(f\"trying network size: {n}\")\n",
        "       for pairs_to_compare in all_networks(N,n):   \n",
        "           if verify_network(pairs_to_compare, N):\n",
        "               return pairs_to_compare\n",
        "\n",
        "\n",
        "synthesize(4)"
      ],
      "execution_count": 62,
      "outputs": [
        {
          "output_type": "stream",
          "name": "stdout",
          "text": [
            "trying network size: 0\n",
            "trying network size: 1\n",
            "trying network size: 2\n",
            "trying network size: 3\n",
            "trying network size: 4\n",
            "trying network size: 5\n",
            "proved\n"
          ]
        },
        {
          "output_type": "execute_result",
          "data": {
            "text/plain": [
              "[(0, 1), (2, 3), (0, 2), (1, 3), (1, 2)]"
            ]
          },
          "metadata": {},
          "execution_count": 62
        }
      ]
    },
    {
      "cell_type": "markdown",
      "metadata": {
        "id": "LwZeQW8AST9x"
      },
      "source": [
        "The space we are naively looking through is very very large. Consider what else might you want to do to speed things up. Early pruning of bad networks with testing, avoiding ever looking at obviously bad networks, maybe the completely optimal sorting network isn't necessary for you. Maybe a randomized search might be faster. "
      ]
    },
    {
      "cell_type": "markdown",
      "metadata": {
        "id": "j3bCDCCzST9y"
      },
      "source": [
        "## Verifying a Neural Network\n",
        "\n",
        "Neural networks are all the rage these days. One way of looking at neural networks is that they are a flexibly parametrized class of functions. What makes them useful is: \n",
        "\n",
        "1. They can be used at insane scale due to their simplicity and excellent available implementations.\n",
        "2. There are intuitive ways to input abstract structure and symmetry expected of a problem, for example translation symmetry, or a hierarchy of small scale pattern recognition combining into large scale strutures\n",
        "3. Inspirational analogies can be drawn from nature.\n",
        "\n",
        "Neural networks made out of just ReLUs (rectified linear units, $ReLU(x) = max(0,x)$ ) and linear layers are particularly amenable to formal analysis. Regarding the weights as fixed, a neural network is a piecewise linear function and piecewise linear functions are among the functions most amenable to rigorous anaysis.\n"
      ]
    },
    {
      "cell_type": "code",
      "metadata": {
        "id": "fRnf-0DLST9y",
        "outputId": "6951e45d-1fc4-4239-8487-290c592dac0e",
        "colab": {
          "base_uri": "https://localhost:8080/",
          "height": 0
        }
      },
      "source": [
        "import matplotlib.pyplot as plt\n",
        "import numpy as np\n",
        "xs = np.linspace(-1,1,1000)\n",
        "plt.plot(xs, np.maximum(0,xs))\n",
        "plt.title(\"ReLU\")\n",
        "plt.show()"
      ],
      "execution_count": 63,
      "outputs": [
        {
          "output_type": "display_data",
          "data": {
            "image/png": "[encoded data removed]",
            "text/plain": [
              "<Figure size 432x288 with 1 Axes>"
            ]
          },
          "metadata": {
            "needs_background": "light"
          }
        }
      ]
    },
    {
      "cell_type": "markdown",
      "metadata": {
        "id": "ERykDH9ZST9y"
      },
      "source": [
        "Most machine learning tasks don't have a mathematically precise specification. What is the mathematically precise definition of a picture of a horse? We could try to come up with something, but it would be rather suspect. \n",
        "\n",
        "The surprising power of neural networks has often been in areas where a mathematically precise rule based specification has not worked. Tasks that _do_ have a spec are questionable areas for machine learning techniques, because how can you know that the network meets the spec? Also, one would suspect such a problem would have exploitable structure such that you might be better off with a less general purpose approach. \n",
        "\n",
        "However, there a a couple areas where one does have reasonable formal questions one might want to ask about a neural network:\n",
        "- Robustness around training examples and valdiation examples. Adversarial examples.\n",
        "- Control Systems - There are many control systems which we do have a reasonable formal spec one could write such as walking robots. These systems are so high dimensional that it is difficult to derive a good controller from the spec, and hence reinforcement learning may be a reasonable option\n",
        "- Neural networks as computational accelerators. There are problems which we know how to solve, but are very slow. It may be useful to presolve a large number of examples offline and train a neural network to give good estimates. Neural networks can be evaluated very quickly and easily thanks to modern frameworks.\n",
        "- Dead neuron pruning. Can we show that some neuron never fires over the domain of interest?\n",
        "  \n",
        "\n",
        "Here we'll train a network to fit a simple 1-D function and then verify it's accuracy. This is of course a complete toy. How often do you see 1-D input space neural networks? Not often I bet.\n",
        "\n",
        "But it's nice for a couple reasons:\n",
        "1. Because we can visualize it. \n",
        "2. It drives home the point about neural nets being a space of piecewise linear function approximators, and how similar training is to curve fitting.\n",
        "3. It's simple enough that z3 can crush it. There is a big question if z3 or other formal methods can scale to modern neural nets. Modern top of the line neural nets are insanely huge. There are special purpose SMT solvers being built for this task. There are other approaches being pursued such as the use of mixed integer programming solvers. So this is an area of research. Come see tomorrow's talk for more!"
      ]
    },
    {
      "cell_type": "code",
      "metadata": {
        "id": "CXAj_OoTST9z",
        "outputId": "b5fa04b5-a10f-463e-f3ce-b022266007df",
        "colab": {
          "base_uri": "https://localhost:8080/",
          "height": 0
        }
      },
      "source": [
        "import matplotlib.pyplot as plt\n",
        "import numpy as np\n",
        "\n",
        "def poly(x):\n",
        "    return 8 * x ** 4 - 8 * x**2 + 1\n",
        "xs = np.linspace(-1,1,1000)\n",
        "ys = poly(xs)\n",
        "plt.plot(xs, ys)\n",
        "plt.show()"
      ],
      "execution_count": 64,
      "outputs": [
        {
          "output_type": "display_data",
          "data": {
            "image/png": "[encoded data removed]",
            "text/plain": [
              "<Figure size 432x288 with 1 Axes>"
            ]
          },
          "metadata": {
            "needs_background": "light"
          }
        }
      ]
    },
    {
      "cell_type": "code",
      "metadata": {
        "id": "xbsCx3KAST9z",
        "outputId": "810ab212-c1d9-45d1-9952-57c8cd80208c",
        "colab": {
          "base_uri": "https://localhost:8080/",
          "height": 0
        }
      },
      "source": [
        "import tensorflow as tf\n",
        "from tensorflow import keras\n",
        "\n",
        "# Helper libraries\n",
        "import numpy as np\n",
        "import matplotlib.pyplot as plt\n",
        "\n",
        "model = keras.Sequential([\n",
        "    keras.layers.Dense(20, activation='relu', input_shape=[1]),\n",
        "    keras.layers.Dense(25, activation='relu'),\n",
        "    keras.layers.Dense(1)\n",
        "])\n",
        "\n",
        "optimizer = tf.keras.optimizers.Adam()\n",
        "\n",
        "model.compile(loss='mse',\n",
        "              optimizer=optimizer,\n",
        "              metrics=['mae', 'mse'])\n",
        "\n",
        "model.fit(xs, ys, epochs=100, verbose=0)\n",
        "plt.plot(xs,model.predict(xs))\n",
        "plt.show()"
      ],
      "execution_count": 65,
      "outputs": [
        {
          "output_type": "display_data",
          "data": {
            "image/png": "[encoded data removed]",
            "text/plain": [
              "<Figure size 432x288 with 1 Axes>"
            ]
          },
          "metadata": {
            "needs_background": "light"
          }
        }
      ]
    },
    {
      "cell_type": "code",
      "metadata": {
        "id": "uK0FXFdeST90",
        "outputId": "1f4957e6-be6d-4312-83d4-ff79f4bfb7c7",
        "colab": {
          "base_uri": "https://localhost:8080/"
        }
      },
      "source": [
        "w1, b1, w2, b2, w3, b3 = model.get_weights() # unpack weights from model\n",
        "\n",
        "def Relu(x):\n",
        "    return np.vectorize(lambda y: If(y >= 0 , y, RealVal(0)))(x)\n",
        "\n",
        "# reinterpret network symbolically using z3 variables.\n",
        "def net(x):\n",
        "    x1 = w1.T @ x + b1\n",
        "    y1 = Relu(x1)\n",
        "    x2 = w2.T @ y1 + b2\n",
        "    y2 = Relu(x2)\n",
        "    x3 = w3.T @ y2 + b3\n",
        "    return x3\n",
        "\n",
        "x = np.array([Real('x')])\n",
        "y_true = poly(x)\n",
        "y_pred = net(x)\n",
        "s = Solver()\n",
        "s.add(-1 <= x[0], x[0] <= 1) # constraint input to [-1,1] interval\n",
        "\n",
        "def Abs(x):\n",
        "    return If(x <= 0, -x, x)\n",
        "s.add(Abs( y_pred[0] - y_true[0] ) >= 0.5) # Is there an input with absolute error greater than 0.5?\n",
        "\n",
        "res = s.check()\n",
        "print(res)\n",
        "if res == sat:\n",
        "    m = s.model()\n",
        "    print(\"Bad x value:\", m[x[0]])\n",
        "    x_bad = m[x[0]].numerator_as_long() / m[x[0]].denominator_as_long() \n",
        "    print(\"Error of prediction: \", abs(model.predict(np.array([x_bad])) - cheb(x_bad)))"
      ],
      "execution_count": 66,
      "outputs": [
        {
          "output_type": "stream",
          "name": "stdout",
          "text": [
            "unsat\n"
          ]
        }
      ]
    },
    {
      "cell_type": "markdown",
      "metadata": {
        "id": "QocKpWSuST91"
      },
      "source": [
        "For more on neural verification, I would check out\n",
        "- https://sat-smt.in/programme.html  A 3 Part tutorial at SAT+SMT school by Guy Katz\n",
        "- https://github.com/sisl/NeuralVerification.jl"
      ]
    },
    {
      "cell_type": "markdown",
      "metadata": {
        "id": "CxhEmYncST92"
      },
      "source": [
        "# Takeaways\n",
        "\n",
        "- Z3 is fun.\n",
        "- Z3 is a powerful solver.\n",
        "- It can find satisfy constraints and solve puzzles\n",
        "- Exhaustively failing to find counterexamples = Proof\n",
        "- Mathematics\n",
        "- Applications of Z3 to Programming\n",
        "\n",
        "Z3 is not a panacea. It has some weaknesses in particular in regards to abstraction and induction. These are the strengths of interactive theorems provers like Coq, which Cody will talk about tomorrow. Nevertheless, working to Z3's strengths and making small compromises you can do astounding things with minimal effort.\n",
        "\n",
        "# Thanks for Coming!"
      ]
    },
    {
      "cell_type": "markdown",
      "metadata": {
        "id": "AjSAXtYHST92"
      },
      "source": [
        "## References\n",
        "\n",
        "- rise4fun https://rise4fun.com/z3/tutorialcontent/guide\n",
        "- https://ericpony.github.io/z3py-tutorial/guide-examples.htm\n",
        "- Programming Z3 - https://theory.stanford.edu/~nikolaj/programmingz3.html\n",
        "- Nikolaj Bjorner's tutorial https://youtu.be/nGwyNmsxX6I\n",
        "- Hakank's examples http://www.hakank.org/z3/\n",
        "- Yurichev's book \"SMT by Example\" https://yurichev.com/writings/SAT_SMT_by_example.pdf\n",
        "- http://hackage.haskell.org/package/sbv\n",
        "- https://www.youtube.com/watch?v=ruNFcH-KibY Tikhon Jelvis - Analyzing Programs with Z3\n",
        "- https://www.youtube.com/watch?v=rvPWDgJc0O4&ab_channel=ACMSIGPLAN - Nadia Polykarpova on Z3\n",
        "- SAT SMT school https://sat-smt.in/\n",
        "- Emina Torlak's course https://courses.cs.washington.edu/courses/cse507/19au/calendar.html\n",
        "- Lindsey Kuper - SMT Solving and Solver-Aided Systems http://composition.al/CSE290Q-2019-09/\n",
        "- http://www.sc-square.org/CSA/school/lectures.html"
      ]
    }
  ]
}